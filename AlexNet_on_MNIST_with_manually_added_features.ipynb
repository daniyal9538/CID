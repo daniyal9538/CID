{
  "nbformat": 4,
  "nbformat_minor": 0,
  "metadata": {
    "colab": {
      "name": "AlexNet on MNIST with manually added features.ipynb",
      "version": "0.3.2",
      "provenance": [],
      "include_colab_link": true
    },
    "kernelspec": {
      "name": "python3",
      "display_name": "Python 3"
    },
    "accelerator": "GPU"
  },
  "cells": [
    {
      "cell_type": "markdown",
      "metadata": {
        "id": "view-in-github",
        "colab_type": "text"
      },
      "source": [
        "<a href=\"https://colab.research.google.com/github/daniyal9538/CID/blob/master/AlexNet_on_MNIST_with_manually_added_features.ipynb\" target=\"_parent\"><img src=\"https://colab.research.google.com/assets/colab-badge.svg\" alt=\"Open In Colab\"/></a>"
      ]
    },
    {
      "metadata": {
        "id": "gLJvCo_bwB-F",
        "colab_type": "text"
      },
      "cell_type": "markdown",
      "source": [
        "#Preamble and Introduction"
      ]
    },
    {
      "metadata": {
        "id": "1lgLvCuZwLCK",
        "colab_type": "text"
      },
      "cell_type": "markdown",
      "source": [
        "I wanted to investigate how adding additional features to an image affect the predictions of a convolution neural network.Specifically, i want to see if adding new features on an additional channel of the image, can change the prediction behaviour of the cnn, whilst the cnn retains the prediction behavior from the unmodified image. Additionally, i wanted to see how a standard and well tested CNN ( such as alexNet) can be modified to deal with a suboptimal image.\n"
      ]
    },
    {
      "metadata": {
        "id": "QPHh5Gy-0B3i",
        "colab_type": "text"
      },
      "cell_type": "markdown",
      "source": [
        "AlexNet was designed to compete in the ImageNet LSVRC-2010 contest. The input to AlexNet were RGB images of resolution 256x256. \n",
        "The dataset to be used on this experiment will be the standard MNIST dataset. The images are greysclae (Single channel) and of resolution 28x28. The image images from the mnist dataset is massively different from the images that were used to train AlexNet."
      ]
    },
    {
      "metadata": {
        "id": "K4d0znvy3Mtb",
        "colab_type": "text"
      },
      "cell_type": "markdown",
      "source": [
        "#Training MNIST on a standard AlexNet architecture"
      ]
    },
    {
      "metadata": {
        "id": "sD0Y2mhw3cfz",
        "colab_type": "text"
      },
      "cell_type": "markdown",
      "source": [
        "The architecture is borrowed from the paper: \"ImageNet Classification with Deep Convolutional\n",
        "Neural Networks\"\n",
        "I will use the tflearn library to build this neural network. Im personally comfortable with tflearn and its fairly simple to edit the neural network layers with tflearn as well."
      ]
    },
    {
      "metadata": {
        "id": "FWbqrOR93LLz",
        "colab_type": "code",
        "colab": {}
      },
      "cell_type": "code",
      "source": [
        "import tensorflow as tf"
      ],
      "execution_count": 0,
      "outputs": []
    },
    {
      "metadata": {
        "id": "s_tKY4WcwKmS",
        "colab_type": "code",
        "colab": {}
      },
      "cell_type": "code",
      "source": [
        "!pip install -q tflearn\n",
        "import numpy as np\n",
        "import time\n",
        "from random import shuffle\n",
        "from matplotlib import pyplot as plt"
      ],
      "execution_count": 0,
      "outputs": []
    },
    {
      "metadata": {
        "id": "dl5HRNBEpnZB",
        "colab_type": "code",
        "colab": {
          "base_uri": "https://localhost:8080/",
          "height": 87
        },
        "outputId": "db8b69a4-9fe2-4b95-f061-104fa644e172"
      },
      "cell_type": "code",
      "source": [
        "import tflearn\n",
        "from tflearn.layers.conv import conv_2d, max_pool_2d,avg_pool_2d, conv_3d, max_pool_3d, avg_pool_3d\n",
        "from tflearn.layers.core import input_data, dropout, fully_connected\n",
        "from tflearn.layers.estimator import regression\n",
        "from tflearn.layers.normalization import local_response_normalization\n",
        "from tflearn.layers.merge_ops import merge"
      ],
      "execution_count": 3,
      "outputs": [
        {
          "output_type": "stream",
          "text": [
            "WARNING:tensorflow:From /usr/local/lib/python3.6/dist-packages/tensorflow/python/framework/op_def_library.py:263: colocate_with (from tensorflow.python.framework.ops) is deprecated and will be removed in a future version.\n",
            "Instructions for updating:\n",
            "Colocations handled automatically by placer.\n"
          ],
          "name": "stdout"
        }
      ]
    },
    {
      "metadata": {
        "id": "NCMMvTMCGyDD",
        "colab_type": "text"
      },
      "cell_type": "markdown",
      "source": [
        "The dataset is downloaded with a 1 hot encoding to make it easier to manage and edit"
      ]
    },
    {
      "metadata": {
        "id": "VXLeIc8MGuOL",
        "colab_type": "code",
        "colab": {
          "base_uri": "https://localhost:8080/",
          "height": 218
        },
        "outputId": "7cc4854e-c7a5-4a46-dd63-e0186c4cdaeb"
      },
      "cell_type": "code",
      "source": [
        "import tflearn.datasets.mnist as mnist\n",
        "\n",
        "x_train, y_train,x_test, y_test = mnist.load_data(one_hot=True)"
      ],
      "execution_count": 4,
      "outputs": [
        {
          "output_type": "stream",
          "text": [
            "Downloading MNIST...\n",
            "Succesfully downloaded train-images-idx3-ubyte.gz 9912422 bytes.\n",
            "Extracting mnist/train-images-idx3-ubyte.gz\n",
            "Downloading MNIST...\n",
            "Succesfully downloaded train-labels-idx1-ubyte.gz 28881 bytes.\n",
            "Extracting mnist/train-labels-idx1-ubyte.gz\n",
            "Downloading MNIST...\n",
            "Succesfully downloaded t10k-images-idx3-ubyte.gz 1648877 bytes.\n",
            "Extracting mnist/t10k-images-idx3-ubyte.gz\n",
            "Downloading MNIST...\n",
            "Succesfully downloaded t10k-labels-idx1-ubyte.gz 4542 bytes.\n",
            "Extracting mnist/t10k-labels-idx1-ubyte.gz\n"
          ],
          "name": "stdout"
        }
      ]
    },
    {
      "metadata": {
        "id": "OIAyiQikG6zy",
        "colab_type": "text"
      },
      "cell_type": "markdown",
      "source": [
        "By default the feature vectors are not in the correct shape so it is neccesary to reshape them. Thw vectors need to be in the shape of 28x28 dimensinal vectors with a single channel (as the input image is grayscale)."
      ]
    },
    {
      "metadata": {
        "id": "D-jq4J2sG54i",
        "colab_type": "code",
        "colab": {
          "base_uri": "https://localhost:8080/",
          "height": 67
        },
        "outputId": "51385a55-db02-4caf-d97c-9416d0b61d90"
      },
      "cell_type": "code",
      "source": [
        "print(x_train.shape, x_test.shape)\n",
        "x_train=np.reshape(x_train, (-1, 28, 28, 1))\n",
        "x_test=np.reshape(x_test, (-1, 28, 28, 1))\n",
        "print(\"After Reshaping\")\n",
        "print(x_train.shape, x_test.shape)"
      ],
      "execution_count": 5,
      "outputs": [
        {
          "output_type": "stream",
          "text": [
            "(55000, 784) (10000, 784)\n",
            "After Reshaping\n",
            "(55000, 28, 28, 1) (10000, 28, 28, 1)\n"
          ],
          "name": "stdout"
        }
      ]
    },
    {
      "metadata": {
        "id": "MT-tNiqaHoxK",
        "colab_type": "text"
      },
      "cell_type": "markdown",
      "source": [
        "#Defining models and running initial tests"
      ]
    },
    {
      "metadata": {
        "id": "b2BbrcljHu6l",
        "colab_type": "text"
      },
      "cell_type": "markdown",
      "source": [
        "This alexnet model is edited to work with a label space of size 10 and with a single channel image.\n",
        "All training runs shall be ran for 5 epochs with a LR = 1e-3. These hyperparameters will not change for the sake of consistency across the trials\n",
        "\n",
        "Additional Note: The activation function in the fully connected layers should be ReLU as well. But i did not catch that mistake until i was reviewing the project. \n",
        "However, i believe that it would not have had such a big impact on the final results."
      ]
    },
    {
      "metadata": {
        "id": "zmICw6VcJbqV",
        "colab_type": "code",
        "colab": {}
      },
      "cell_type": "code",
      "source": [
        "#set hyper parameters\n",
        "WIDTH = 28\n",
        "HEIGHT = 28\n",
        "LR = 1e-3\n",
        "epochs = 5"
      ],
      "execution_count": 0,
      "outputs": []
    },
    {
      "metadata": {
        "id": "-6ibF_CzI4XD",
        "colab_type": "code",
        "colab": {}
      },
      "cell_type": "code",
      "source": [
        "def alexnet2(width, height, lr, output=3):\n",
        "    network = input_data(shape=[None, width, height, 1], name='input')\n",
        "    network = conv_2d(network, 96, 11, strides=4, activation='relu')\n",
        "    network = max_pool_2d(network, 3, strides=2)\n",
        "    network = local_response_normalization(network)\n",
        "    network = conv_2d(network, 256, 5, activation='relu')\n",
        "    network = max_pool_2d(network, 3, strides=2)\n",
        "    network = local_response_normalization(network)\n",
        "    network = conv_2d(network, 384, 3, activation='relu')\n",
        "    network = conv_2d(network, 384, 3, activation='relu')\n",
        "    network = conv_2d(network, 256, 3, activation='relu')\n",
        "    network = max_pool_2d(network, 3, strides=2)\n",
        "    network = conv_2d(network, 256, 5, activation='relu')\n",
        "    network = max_pool_2d(network, 3, strides=2)\n",
        "    network = local_response_normalization(network)\n",
        "    network = conv_2d(network, 384, 3, activation='relu')\n",
        "    network = conv_2d(network, 384, 3, activation='relu')\n",
        "    network = conv_2d(network, 256, 3, activation='relu')\n",
        "    network = max_pool_2d(network, 3, strides=2)\n",
        "    network = local_response_normalization(network)\n",
        "    network = fully_connected(network, 4096, activation='tanh')\n",
        "    network = dropout(network, 0.5)\n",
        "    network = fully_connected(network, 4096, activation='tanh')\n",
        "    network = dropout(network, 0.5)\n",
        "    network = fully_connected(network, 4096, activation='tanh')\n",
        "    network = dropout(network, 0.5)\n",
        "    network = fully_connected(network, 4096, activation='tanh')\n",
        "    network = dropout(network, 0.5)\n",
        "    network = fully_connected(network, output, activation='softmax')\n",
        "    network = regression(network, optimizer='momentum',\n",
        "                         loss='categorical_crossentropy',\n",
        "                         learning_rate=lr, name='targets')\n",
        "\n",
        "    model = tflearn.DNN(network, checkpoint_path='model_alexnet',\n",
        "                        max_checkpoints=1, tensorboard_verbose=0, tensorboard_dir='log')\n",
        "\n",
        "    return model"
      ],
      "execution_count": 0,
      "outputs": []
    },
    {
      "metadata": {
        "id": "mrzY9eWsJQm0",
        "colab_type": "code",
        "colab": {
          "base_uri": "https://localhost:8080/",
          "height": 238
        },
        "outputId": "6334eac5-36a8-4f89-f62c-c814512c4bf3"
      },
      "cell_type": "code",
      "source": [
        "model1 = alexnet2(WIDTH, HEIGHT, LR, output=10)"
      ],
      "execution_count": 8,
      "outputs": [
        {
          "output_type": "stream",
          "text": [
            "WARNING:tensorflow:From /usr/local/lib/python3.6/dist-packages/tflearn/initializations.py:119: UniformUnitScaling.__init__ (from tensorflow.python.ops.init_ops) is deprecated and will be removed in a future version.\n",
            "Instructions for updating:\n",
            "Use tf.initializers.variance_scaling instead with distribution=uniform to get equivalent behavior.\n",
            "WARNING:tensorflow:From /usr/local/lib/python3.6/dist-packages/tflearn/layers/core.py:239: calling dropout (from tensorflow.python.ops.nn_ops) with keep_prob is deprecated and will be removed in a future version.\n",
            "Instructions for updating:\n",
            "Please use `rate` instead of `keep_prob`. Rate should be set to `rate = 1 - keep_prob`.\n",
            "WARNING:tensorflow:From /usr/local/lib/python3.6/dist-packages/tflearn/objectives.py:66: calling reduce_sum_v1 (from tensorflow.python.ops.math_ops) with keep_dims is deprecated and will be removed in a future version.\n",
            "Instructions for updating:\n",
            "keep_dims is deprecated, use keepdims instead\n",
            "WARNING:tensorflow:From /usr/local/lib/python3.6/dist-packages/tensorflow/python/ops/math_ops.py:3066: to_int32 (from tensorflow.python.ops.math_ops) is deprecated and will be removed in a future version.\n",
            "Instructions for updating:\n",
            "Use tf.cast instead.\n"
          ],
          "name": "stdout"
        }
      ]
    },
    {
      "metadata": {
        "id": "nCcpe677JrtF",
        "colab_type": "code",
        "colab": {
          "base_uri": "https://localhost:8080/",
          "height": 101
        },
        "outputId": "cc942da3-6da5-4db8-aac4-2738d459910e"
      },
      "cell_type": "code",
      "source": [
        "model1.fit({'input': x_train}, {'targets': y_train}, n_epoch = epochs, validation_set = ({'input': x_test}, {'targets': y_test}),\n",
        "                snapshot_step = 2500, show_metric = True)"
      ],
      "execution_count": 9,
      "outputs": [
        {
          "output_type": "stream",
          "text": [
            "Training Step: 4299  | total loss: \u001b[1m\u001b[32m2.30405\u001b[0m\u001b[0m | time: 59.797s\n",
            "| Momentum | epoch: 005 | loss: 2.30405 - acc: 0.0948 -- iter: 54976/55000\n",
            "Training Step: 4300  | total loss: \u001b[1m\u001b[32m2.30366\u001b[0m\u001b[0m | time: 62.266s\n",
            "| Momentum | epoch: 005 | loss: 2.30366 - acc: 0.0963 | val_loss: 2.30120 - val_acc: 0.1135 -- iter: 55000/55000\n",
            "--\n"
          ],
          "name": "stdout"
        }
      ]
    },
    {
      "metadata": {
        "id": "6MrGNJ_cM9RI",
        "colab_type": "text"
      },
      "cell_type": "markdown",
      "source": [
        "#First Results and Changes"
      ]
    },
    {
      "metadata": {
        "id": "CGJ-j36PNBX3",
        "colab_type": "text"
      },
      "cell_type": "markdown",
      "source": [
        "The result are predictably bad. AlexNet was not designed to deal for classification of such low resolution images on such a limited dataset.\n",
        "\n",
        "The next step is to edit AlexNet to see whether any changes in the convolution and padding layers alone would improve accuracy.\n",
        "\n",
        "Apart for the first 2 2d convolution layers, the window sizes of all convolution and pooling layers are reduced to 1. The theory is that for such a low resolution image, a single window should be enough to extract all the relevant features from the image (this should hold true for both the convolution and pooling windows). The decision to not change the first 2 2d convolution windows is to serve as a control point.\n",
        "\n",
        "What is being tested is what affect changing the convolution and pooling window sizes will have on the accuracy of the model. If the results are not as desired, the window sizes of all the layers will be adjusted once again. If the results are still unsatisfactory, the fully connected layers will then be edited as well"
      ]
    },
    {
      "metadata": {
        "id": "L5Q-Y1-wOsIg",
        "colab_type": "code",
        "colab": {}
      },
      "cell_type": "code",
      "source": [
        "def alexnet_modified_v1(width, height, channels, lr, output=9):\n",
        "    network = input_data(shape=[None, width, height, channels], name='input')\n",
        "    network = conv_2d(network, 96, 11, strides=4, activation='relu')\n",
        "    network = max_pool_2d(network, 1, strides=2)\n",
        "    network = local_response_normalization(network)\n",
        "    network = conv_2d(network, 256, 5, activation='relu')\n",
        "    network = max_pool_2d(network, 1, strides=2)\n",
        "    network = local_response_normalization(network)\n",
        "    network = conv_2d(network, 384, 1, activation='relu')\n",
        "    network = conv_2d(network, 384, 1, activation='relu')\n",
        "    network = conv_2d(network, 256, 1, activation='relu')\n",
        "    network = max_pool_2d(network, 1, strides=2)\n",
        "    network = conv_2d(network, 256, 1, activation='relu')\n",
        "    network = max_pool_2d(network, 1, strides=2)\n",
        "    network = local_response_normalization(network)\n",
        "    network = conv_2d(network, 384, 1, activation='relu')\n",
        "    network = conv_2d(network, 384, 1, activation='relu')\n",
        "    network = conv_2d(network, 256, 1, activation='relu')\n",
        "    network = max_pool_2d(network, 1, strides=2)\n",
        "    network = local_response_normalization(network)\n",
        "    network = fully_connected(network, 4096, activation='tanh')\n",
        "    network = dropout(network, 0.5)\n",
        "    network = fully_connected(network, 4096, activation='tanh')\n",
        "    network = dropout(network, 0.5)\n",
        "    network = fully_connected(network, 4096, activation='tanh')\n",
        "    network = dropout(network, 0.5)\n",
        "    network = fully_connected(network, 4096, activation='tanh')\n",
        "    network = dropout(network, 0.5)\n",
        "    network = fully_connected(network, output, activation='softmax')\n",
        "    network = regression(network, optimizer='momentum',\n",
        "                         loss='categorical_crossentropy',\n",
        "                         learning_rate=lr, name='targets')\n",
        "\n",
        "    model = tflearn.DNN(network, checkpoint_path='model_alexnet',\n",
        "                        max_checkpoints=1, tensorboard_verbose=0, tensorboard_dir='log')\n",
        "\n",
        "    return model"
      ],
      "execution_count": 0,
      "outputs": []
    },
    {
      "metadata": {
        "id": "TnlsV6PVO14k",
        "colab_type": "code",
        "colab": {
          "base_uri": "https://localhost:8080/",
          "height": 238
        },
        "outputId": "9edf851f-0927-4d3b-ee37-fad4af4a151d"
      },
      "cell_type": "code",
      "source": [
        "model2 = alexnet_modified_v1(WIDTH, HEIGHT, 1, LR, output=10)"
      ],
      "execution_count": 8,
      "outputs": [
        {
          "output_type": "stream",
          "text": [
            "WARNING:tensorflow:From /usr/local/lib/python3.6/dist-packages/tflearn/initializations.py:119: UniformUnitScaling.__init__ (from tensorflow.python.ops.init_ops) is deprecated and will be removed in a future version.\n",
            "Instructions for updating:\n",
            "Use tf.initializers.variance_scaling instead with distribution=uniform to get equivalent behavior.\n",
            "WARNING:tensorflow:From /usr/local/lib/python3.6/dist-packages/tflearn/layers/core.py:239: calling dropout (from tensorflow.python.ops.nn_ops) with keep_prob is deprecated and will be removed in a future version.\n",
            "Instructions for updating:\n",
            "Please use `rate` instead of `keep_prob`. Rate should be set to `rate = 1 - keep_prob`.\n",
            "WARNING:tensorflow:From /usr/local/lib/python3.6/dist-packages/tflearn/objectives.py:66: calling reduce_sum_v1 (from tensorflow.python.ops.math_ops) with keep_dims is deprecated and will be removed in a future version.\n",
            "Instructions for updating:\n",
            "keep_dims is deprecated, use keepdims instead\n",
            "WARNING:tensorflow:From /usr/local/lib/python3.6/dist-packages/tensorflow/python/ops/math_ops.py:3066: to_int32 (from tensorflow.python.ops.math_ops) is deprecated and will be removed in a future version.\n",
            "Instructions for updating:\n",
            "Use tf.cast instead.\n"
          ],
          "name": "stdout"
        }
      ]
    },
    {
      "metadata": {
        "id": "cKEeWr6_O9bV",
        "colab_type": "code",
        "colab": {
          "base_uri": "https://localhost:8080/",
          "height": 101
        },
        "outputId": "77cb4785-09f8-434f-8a25-e30a6de74ad5"
      },
      "cell_type": "code",
      "source": [
        "model2.fit({'input': x_train}, {'targets': y_train}, n_epoch = 5, validation_set = ({'input': x_test}, {'targets': y_test}),\n",
        "                snapshot_step = 2500, show_metric = True)"
      ],
      "execution_count": 9,
      "outputs": [
        {
          "output_type": "stream",
          "text": [
            "Training Step: 4299  | total loss: \u001b[1m\u001b[32m0.10066\u001b[0m\u001b[0m | time: 41.769s\n",
            "| Momentum | epoch: 005 | loss: 0.10066 - acc: 0.9642 -- iter: 54976/55000\n",
            "Training Step: 4300  | total loss: \u001b[1m\u001b[32m0.10284\u001b[0m\u001b[0m | time: 43.711s\n",
            "| Momentum | epoch: 005 | loss: 0.10284 - acc: 0.9631 | val_loss: 0.14613 - val_acc: 0.9570 -- iter: 55000/55000\n",
            "--\n"
          ],
          "name": "stdout"
        }
      ]
    },
    {
      "metadata": {
        "id": "MDQXj7QqQLKm",
        "colab_type": "text"
      },
      "cell_type": "markdown",
      "source": [
        "#Second Results and Next Step"
      ]
    },
    {
      "metadata": {
        "id": "5idDa58kQO4v",
        "colab_type": "text"
      },
      "cell_type": "markdown",
      "source": [
        "Accuracy increased tenfold from 9.6% to 96%. No further changes will be made to the alexnet model, as these results are good enough for the next step of the experiment. The next step is to manually add a secondary channel (which will be empty initially), and run the new modified dataset and see if that affects the accuracy results."
      ]
    },
    {
      "metadata": {
        "id": "0QeOajHSQr0U",
        "colab_type": "code",
        "colab": {
          "base_uri": "https://localhost:8080/",
          "height": 50
        },
        "outputId": "5a5973ce-cfed-4f69-965b-b92574cc86d7"
      },
      "cell_type": "code",
      "source": [
        "print('Old train input vector shape', x_train.shape)\n",
        "x1_train = np.zeros((55000,28,28,2))\n",
        "print('New train Input vector shape', x1_train.shape)"
      ],
      "execution_count": 8,
      "outputs": [
        {
          "output_type": "stream",
          "text": [
            "Old train input vector shape (55000, 28, 28, 1)\n",
            "New train Input vector shape (55000, 28, 28, 2)\n"
          ],
          "name": "stdout"
        }
      ]
    },
    {
      "metadata": {
        "id": "lMfDIRJLQ-Z5",
        "colab_type": "code",
        "colab": {}
      },
      "cell_type": "code",
      "source": [
        "for i in range(55000):\n",
        "  t = x_train[i]\n",
        "  for j in range(28):\n",
        "    t1 = t[j]\n",
        "    for k in range(28):\n",
        "      t2 = t1[k]\n",
        "      x1_train[i][j][k][0]=t2 "
      ],
      "execution_count": 0,
      "outputs": []
    },
    {
      "metadata": {
        "id": "LEUIlcJfRJw-",
        "colab_type": "code",
        "colab": {
          "base_uri": "https://localhost:8080/",
          "height": 50
        },
        "outputId": "56d9a762-beb4-46e1-e0d9-9f279bb81ca9"
      },
      "cell_type": "code",
      "source": [
        "print('Old test input vector shape', x_test.shape)\n",
        "x1_test = np.zeros((10000,28,28,2))\n",
        "print('New train input vector shape', x1_test.shape)"
      ],
      "execution_count": 10,
      "outputs": [
        {
          "output_type": "stream",
          "text": [
            "Old test input vector shape (10000, 28, 28, 1)\n",
            "New train input vector shape (10000, 28, 28, 2)\n"
          ],
          "name": "stdout"
        }
      ]
    },
    {
      "metadata": {
        "id": "GU-AL-zPRSKA",
        "colab_type": "code",
        "colab": {}
      },
      "cell_type": "code",
      "source": [
        "for i in range(10000):\n",
        "  t = x_test[i]\n",
        "  for j in range(28):\n",
        "    t1 = t[j]\n",
        "    for k in range(28):\n",
        "      t2 = t1[k]\n",
        "      x1_test[i][j][k][0]=t2 "
      ],
      "execution_count": 0,
      "outputs": []
    },
    {
      "metadata": {
        "id": "ErhiCI1LZZ_X",
        "colab_type": "text"
      },
      "cell_type": "markdown",
      "source": [
        "The dataset with index 1 contains the images with the empty second channel added to them"
      ]
    },
    {
      "metadata": {
        "id": "dxRnLrI0RZj_",
        "colab_type": "code",
        "colab": {
          "base_uri": "https://localhost:8080/",
          "height": 238
        },
        "outputId": "9cca4e88-412a-4564-a4ca-5b4844a5d6a4"
      },
      "cell_type": "code",
      "source": [
        "model3 = alexnet_modified_v1(WIDTH, HEIGHT, 2, LR, output=10)"
      ],
      "execution_count": 13,
      "outputs": [
        {
          "output_type": "stream",
          "text": [
            "WARNING:tensorflow:From /usr/local/lib/python3.6/dist-packages/tflearn/initializations.py:119: UniformUnitScaling.__init__ (from tensorflow.python.ops.init_ops) is deprecated and will be removed in a future version.\n",
            "Instructions for updating:\n",
            "Use tf.initializers.variance_scaling instead with distribution=uniform to get equivalent behavior.\n",
            "WARNING:tensorflow:From /usr/local/lib/python3.6/dist-packages/tflearn/layers/core.py:239: calling dropout (from tensorflow.python.ops.nn_ops) with keep_prob is deprecated and will be removed in a future version.\n",
            "Instructions for updating:\n",
            "Please use `rate` instead of `keep_prob`. Rate should be set to `rate = 1 - keep_prob`.\n",
            "WARNING:tensorflow:From /usr/local/lib/python3.6/dist-packages/tflearn/objectives.py:66: calling reduce_sum_v1 (from tensorflow.python.ops.math_ops) with keep_dims is deprecated and will be removed in a future version.\n",
            "Instructions for updating:\n",
            "keep_dims is deprecated, use keepdims instead\n",
            "WARNING:tensorflow:From /usr/local/lib/python3.6/dist-packages/tensorflow/python/ops/math_ops.py:3066: to_int32 (from tensorflow.python.ops.math_ops) is deprecated and will be removed in a future version.\n",
            "Instructions for updating:\n",
            "Use tf.cast instead.\n"
          ],
          "name": "stdout"
        }
      ]
    },
    {
      "metadata": {
        "id": "1ylxFpeMRi1A",
        "colab_type": "code",
        "colab": {
          "base_uri": "https://localhost:8080/",
          "height": 101
        },
        "outputId": "8cc90cb1-3ff1-4bd6-f442-48da9839df0a"
      },
      "cell_type": "code",
      "source": [
        "model3.fit({'input': x1_train}, {'targets': y_train}, n_epoch = 5, validation_set = ({'input': x1_test}, {'targets': y_test}),\n",
        "                snapshot_step = 2500, show_metric = True)"
      ],
      "execution_count": 14,
      "outputs": [
        {
          "output_type": "stream",
          "text": [
            "Training Step: 4299  | total loss: \u001b[1m\u001b[32m0.11907\u001b[0m\u001b[0m | time: 42.988s\n",
            "| Momentum | epoch: 005 | loss: 0.11907 - acc: 0.9691 -- iter: 54976/55000\n",
            "Training Step: 4300  | total loss: \u001b[1m\u001b[32m0.11213\u001b[0m\u001b[0m | time: 44.981s\n",
            "| Momentum | epoch: 005 | loss: 0.11213 - acc: 0.9722 | val_loss: 0.13305 - val_acc: 0.9634 -- iter: 55000/55000\n",
            "--\n"
          ],
          "name": "stdout"
        }
      ]
    },
    {
      "metadata": {
        "id": "C7TiDWTuT39F",
        "colab_type": "text"
      },
      "cell_type": "markdown",
      "source": [
        "#Third Result and Next Step"
      ]
    },
    {
      "metadata": {
        "id": "Pnn4mj-tT8K3",
        "colab_type": "text"
      },
      "cell_type": "markdown",
      "source": [
        "Adding a second channel had no affect on the accuracy of the model. The next step is to manually add a new feature to the secondary channels of the image.\n",
        "\n",
        "How this will be done is by making a copy of the dataset, the first copy will be left unaltered (2 channels, 1 with image, 1 empty). The second dataset will be edited in the second channel. A 30 pixel thick black bar will be added to the top of the image's second channel. If an image has this feature in the second channel, then it's label will changes from n to  n+1. (the images with labels 9 will not have this change applied, as the model is only designed to work with a label space of size 10)\n",
        "\n",
        "First these 2 datasets will be randomly shuffled togeter and then trained on the model. THen these 2 datasets will be appended (not shuffled). This is done to see if the cnn exhbits any recency bias during training. I.E., it only remember the correct results from the most recent set of images,"
      ]
    },
    {
      "metadata": {
        "id": "CY2jbl4WdajH",
        "colab_type": "text"
      },
      "cell_type": "markdown",
      "source": [
        "The black row that is to be added to the second channel shall look like this:"
      ]
    },
    {
      "metadata": {
        "id": "pXt20MAMdfPz",
        "colab_type": "code",
        "colab": {
          "base_uri": "https://localhost:8080/",
          "height": 347
        },
        "outputId": "76fae51c-5415-4709-8159-5ea748859074"
      },
      "cell_type": "code",
      "source": [
        "temp = np.zeros((28, 28))\n",
        "for i in range(3):\n",
        "  for j in range(28):\n",
        "    temp[i][j] = float(1)\n",
        "plt.imshow(temp)\n",
        "plt.show()"
      ],
      "execution_count": 30,
      "outputs": [
        {
          "output_type": "display_data",
          "data": {
            "image/png": "[encoded data removed]",
            "text/plain": [
              "<Figure size 576x396 with 1 Axes>"
            ]
          },
          "metadata": {
            "tags": []
          }
        }
      ]
    },
    {
      "metadata": {
        "id": "MUe7n_xlYJZh",
        "colab_type": "code",
        "colab": {}
      },
      "cell_type": "code",
      "source": [
        "x2_train = np.array([])\n",
        "x2_train = np.append(x2_train, x1_train)\n",
        "x2_train = np.reshape(x2_train, (-1, 28, 28, 2))\n"
      ],
      "execution_count": 0,
      "outputs": []
    },
    {
      "metadata": {
        "id": "hWWfsRRKYm_U",
        "colab_type": "code",
        "colab": {}
      },
      "cell_type": "code",
      "source": [
        "y2_train = np.array([])\n",
        "y2_train = np.append(y2_train, y_train)\n",
        "y2_train = np.reshape(y2_train, (-1, 10))"
      ],
      "execution_count": 0,
      "outputs": []
    },
    {
      "metadata": {
        "id": "zhaVQteVYo8p",
        "colab_type": "code",
        "colab": {}
      },
      "cell_type": "code",
      "source": [
        "for i in range(55000):\n",
        "  x=np.argmax(y2_train[i])\n",
        "  if(x<9):\n",
        "    y2_train[i][x] = float(0)\n",
        "    y2_train[i][x+1] = float(1)\n",
        "    for j in range(3):\n",
        "      for k in range(28):\n",
        "        x2_train[i][j][k][1] = float(1)"
      ],
      "execution_count": 0,
      "outputs": []
    },
    {
      "metadata": {
        "id": "E3FLjkbnYryw",
        "colab_type": "code",
        "colab": {}
      },
      "cell_type": "code",
      "source": [
        "x2_test = np.array([])\n",
        "x2_test = np.append(x2_test, x1_test)\n",
        "x2_test= np.reshape(x2_test, (-1, 28, 28, 2))"
      ],
      "execution_count": 0,
      "outputs": []
    },
    {
      "metadata": {
        "id": "b7teR2QfY67z",
        "colab_type": "code",
        "colab": {}
      },
      "cell_type": "code",
      "source": [
        "y2_test = np.array([])\n",
        "y2_test = np.append(y2_test, y_test)\n",
        "y2_test = np.reshape(y2_test, (-1, 10))"
      ],
      "execution_count": 0,
      "outputs": []
    },
    {
      "metadata": {
        "id": "ydIj_AEzY8KW",
        "colab_type": "code",
        "colab": {}
      },
      "cell_type": "code",
      "source": [
        "for i in range(10000):\n",
        "  x=np.argmax(y2_test[i])\n",
        "  if(x<9):\n",
        "    y2_test[i][x] = float(0)\n",
        "    y2_test[i][x+1] = float(1)\n",
        "    for j in range(3):\n",
        "      for k in range(28):\n",
        "        x2_test[i][j][k][1] = float(1)"
      ],
      "execution_count": 0,
      "outputs": []
    },
    {
      "metadata": {
        "id": "fkj5WLv1ZJZx",
        "colab_type": "text"
      },
      "cell_type": "markdown",
      "source": [
        "the dataset with index 2 now contains the edited images with the corrosoponding edited labels"
      ]
    },
    {
      "metadata": {
        "id": "Tp5L89OAZgMS",
        "colab_type": "code",
        "colab": {}
      },
      "cell_type": "code",
      "source": [
        "x3_train = np.array([])\n",
        "x3_train = np.append(x3_train, x1_train)\n",
        "x3_train = np.append(x3_train, x2_train)\n",
        "x3_train = np.reshape(x3_train, (-1, 28, 28, 2))"
      ],
      "execution_count": 0,
      "outputs": []
    },
    {
      "metadata": {
        "id": "r6EIoSTMZk41",
        "colab_type": "code",
        "colab": {}
      },
      "cell_type": "code",
      "source": [
        "y3_train = np.array([])\n",
        "y3_train = np.append(y3_train, y_train)\n",
        "y3_train = np.append(y3_train, y2_train)\n",
        "y3_train = np.reshape(y3_train, (-1, 10))"
      ],
      "execution_count": 0,
      "outputs": []
    },
    {
      "metadata": {
        "id": "zAC9WaK7Zmc4",
        "colab_type": "code",
        "colab": {}
      },
      "cell_type": "code",
      "source": [
        "x3_test = np.array([])\n",
        "x3_test = np.append(x3_test, x1_test)\n",
        "x3_test = np.append(x3_test, x2_test)\n",
        "x3_test = np.reshape(x3_test, (-1, 28, 28, 2))"
      ],
      "execution_count": 0,
      "outputs": []
    },
    {
      "metadata": {
        "id": "m7ore7s9ZofA",
        "colab_type": "code",
        "colab": {}
      },
      "cell_type": "code",
      "source": [
        "y3_test = np.array([])\n",
        "y3_test = np.append(y3_test, y_test)\n",
        "y3_test = np.append(y3_test, y2_test)\n",
        "y3_test = np.reshape(y3_test, (-1, 10))"
      ],
      "execution_count": 0,
      "outputs": []
    },
    {
      "metadata": {
        "id": "jCaIztNBZq_L",
        "colab_type": "text"
      },
      "cell_type": "markdown",
      "source": [
        "The dataset with index 3 contains dataset1 and dataset2 appended to each other in that order"
      ]
    },
    {
      "metadata": {
        "id": "XzucHhi5ZqDz",
        "colab_type": "code",
        "colab": {}
      },
      "cell_type": "code",
      "source": [
        "p = np.random.permutation(x3_train.shape[0])\n",
        "x4_train = x3_train[p]\n",
        "y4_train= y3_train[p]"
      ],
      "execution_count": 0,
      "outputs": []
    },
    {
      "metadata": {
        "id": "E_WmMguCZ2U4",
        "colab_type": "code",
        "colab": {}
      },
      "cell_type": "code",
      "source": [
        "p = np.random.permutation(x3_test.shape[0])\n",
        "x4_test = x3_test[p]\n",
        "y4_test= y3_test[p]"
      ],
      "execution_count": 0,
      "outputs": []
    },
    {
      "metadata": {
        "id": "8jIgC8_rZ54Y",
        "colab_type": "text"
      },
      "cell_type": "markdown",
      "source": [
        "The dataset with index 4 contains dataset1 and dataset2 appended to each other in that order and then shuffled"
      ]
    },
    {
      "metadata": {
        "id": "L16rmuMoaRIN",
        "colab_type": "code",
        "colab": {
          "base_uri": "https://localhost:8080/",
          "height": 238
        },
        "outputId": "2f5f08b7-90a0-4b9e-8e13-65be80c2fa97"
      },
      "cell_type": "code",
      "source": [
        "model4 = alexnet_modified_v1(WIDTH, HEIGHT, 2, LR, output=10)"
      ],
      "execution_count": 24,
      "outputs": [
        {
          "output_type": "stream",
          "text": [
            "WARNING:tensorflow:From /usr/local/lib/python3.6/dist-packages/tflearn/initializations.py:119: UniformUnitScaling.__init__ (from tensorflow.python.ops.init_ops) is deprecated and will be removed in a future version.\n",
            "Instructions for updating:\n",
            "Use tf.initializers.variance_scaling instead with distribution=uniform to get equivalent behavior.\n",
            "WARNING:tensorflow:From /usr/local/lib/python3.6/dist-packages/tflearn/layers/core.py:239: calling dropout (from tensorflow.python.ops.nn_ops) with keep_prob is deprecated and will be removed in a future version.\n",
            "Instructions for updating:\n",
            "Please use `rate` instead of `keep_prob`. Rate should be set to `rate = 1 - keep_prob`.\n",
            "WARNING:tensorflow:From /usr/local/lib/python3.6/dist-packages/tflearn/objectives.py:66: calling reduce_sum_v1 (from tensorflow.python.ops.math_ops) with keep_dims is deprecated and will be removed in a future version.\n",
            "Instructions for updating:\n",
            "keep_dims is deprecated, use keepdims instead\n",
            "WARNING:tensorflow:From /usr/local/lib/python3.6/dist-packages/tensorflow/python/ops/math_ops.py:3066: to_int32 (from tensorflow.python.ops.math_ops) is deprecated and will be removed in a future version.\n",
            "Instructions for updating:\n",
            "Use tf.cast instead.\n"
          ],
          "name": "stdout"
        }
      ]
    },
    {
      "metadata": {
        "id": "UJPBrmYvaU13",
        "colab_type": "code",
        "colab": {
          "base_uri": "https://localhost:8080/",
          "height": 101
        },
        "outputId": "03c1a53d-9738-4462-c152-91e502a0599e"
      },
      "cell_type": "code",
      "source": [
        "model4.fit({'input': x4_train}, {'targets': y4_train}, n_epoch = 5, validation_set = ({'input': x4_test}, {'targets': y4_test}),\n",
        "                snapshot_step = 2500, show_metric = True)"
      ],
      "execution_count": 25,
      "outputs": [
        {
          "output_type": "stream",
          "text": [
            "Training Step: 8594  | total loss: \u001b[1m\u001b[32m0.07026\u001b[0m\u001b[0m | time: 88.185s\n",
            "| Momentum | epoch: 005 | loss: 0.07026 - acc: 0.9869 -- iter: 109952/110000\n",
            "Training Step: 8595  | total loss: \u001b[1m\u001b[32m0.07069\u001b[0m\u001b[0m | time: 91.774s\n",
            "| Momentum | epoch: 005 | loss: 0.07069 - acc: 0.9851 | val_loss: 0.09578 - val_acc: 0.9723 -- iter: 110000/110000\n",
            "--\n"
          ],
          "name": "stdout"
        }
      ]
    },
    {
      "metadata": {
        "id": "TSmB14mpc1Kw",
        "colab_type": "code",
        "colab": {
          "base_uri": "https://localhost:8080/",
          "height": 415
        },
        "outputId": "d2521e68-74a8-4520-b6af-f4fdf3d6d2d0"
      },
      "cell_type": "code",
      "source": [
        "temp = np.zeros((28, 28))\n",
        "for i in range(3):\n",
        "  for j in range(28):\n",
        "    temp[i][j] = float(1)\n",
        "\n",
        "i = np.random.randint(10000)\n",
        "j = np.random.randint(10000)\n",
        "plt.subplot(2, 2, 3)\n",
        "plt.imshow(np.reshape(x_test[i], (28, 28)))\n",
        "plt.subplot(2, 2, 4)\n",
        "plt.imshow(temp)\n",
        "plt.subplot(2, 2, 1)\n",
        "plt.imshow(np.reshape(x_test[i], (28, 28)))\n",
        "plt.subplot(2, 2, 2)\n",
        "plt.imshow( np.zeros((28, 28)))\n",
        "#plt.imshow(np.reshape(x_test[i], (28, 28)))\n",
        "plt.show()\n",
        "#print(i, j)\n",
        "print(\"prediction from model\", np.argmax( np.round(model4.predict([x1_test[i]])[0]) ))\n",
        "\n",
        "print(\"answer\", np.argmax(y_test[i]))\n",
        "\n",
        "print(\"prediction from model\", np.argmax( np.round(model4.predict([x2_test[i]])[0]) ))\n",
        "\n",
        "print(\"answer\", np.argmax(y2_test[i]))"
      ],
      "execution_count": 33,
      "outputs": [
        {
          "output_type": "display_data",
          "data": {
            "image/png": "[encoded data removed]",
            "text/plain": [
              "<Figure size 576x396 with 4 Axes>"
            ]
          },
          "metadata": {
            "tags": []
          }
        },
        {
          "output_type": "stream",
          "text": [
            "prediction from model 5\n",
            "answer 5\n",
            "prediction from model 6\n",
            "answer 6\n"
          ],
          "name": "stdout"
        }
      ]
    },
    {
      "metadata": {
        "id": "dW9NDsrrbMou",
        "colab_type": "text"
      },
      "cell_type": "markdown",
      "source": [
        "#Fourth Result and Next Step"
      ]
    },
    {
      "metadata": {
        "id": "kavd4R7KbQap",
        "colab_type": "text"
      },
      "cell_type": "markdown",
      "source": [
        "The accuracy results of the model with the shuffled dataset (dataset4) were very good, same as the accuracy observed in the second result. Manually checking the predictions of this model also yield the desired results. The predictions for the edited second channel provide the correct result. This manual testing was done on dataset1 and dataset2 so as to get corrosoponding results which are easier to verify. The second channels in the images in the above demonstration are manually added, but are the same as the actual second channels of the image. Displaying the actual second channel as a seperate image would be a tedious progress and this is done for demonstration purposes only.\n",
        "\n",
        "THe next step is to train the model on the unshuffed data (dataset3), and see if the cnn performs and differently"
      ]
    },
    {
      "metadata": {
        "id": "QLWkceYKbQBE",
        "colab_type": "code",
        "colab": {
          "base_uri": "https://localhost:8080/",
          "height": 238
        },
        "outputId": "6c3c45f6-1159-4cf6-9dee-16d771552927"
      },
      "cell_type": "code",
      "source": [
        "model5 = alexnet_modified_v1(WIDTH, HEIGHT, 2, LR, output=10)"
      ],
      "execution_count": 22,
      "outputs": [
        {
          "output_type": "stream",
          "text": [
            "WARNING:tensorflow:From /usr/local/lib/python3.6/dist-packages/tflearn/initializations.py:119: UniformUnitScaling.__init__ (from tensorflow.python.ops.init_ops) is deprecated and will be removed in a future version.\n",
            "Instructions for updating:\n",
            "Use tf.initializers.variance_scaling instead with distribution=uniform to get equivalent behavior.\n",
            "WARNING:tensorflow:From /usr/local/lib/python3.6/dist-packages/tflearn/layers/core.py:239: calling dropout (from tensorflow.python.ops.nn_ops) with keep_prob is deprecated and will be removed in a future version.\n",
            "Instructions for updating:\n",
            "Please use `rate` instead of `keep_prob`. Rate should be set to `rate = 1 - keep_prob`.\n",
            "WARNING:tensorflow:From /usr/local/lib/python3.6/dist-packages/tflearn/objectives.py:66: calling reduce_sum_v1 (from tensorflow.python.ops.math_ops) with keep_dims is deprecated and will be removed in a future version.\n",
            "Instructions for updating:\n",
            "keep_dims is deprecated, use keepdims instead\n",
            "WARNING:tensorflow:From /usr/local/lib/python3.6/dist-packages/tensorflow/python/ops/math_ops.py:3066: to_int32 (from tensorflow.python.ops.math_ops) is deprecated and will be removed in a future version.\n",
            "Instructions for updating:\n",
            "Use tf.cast instead.\n"
          ],
          "name": "stdout"
        }
      ]
    },
    {
      "metadata": {
        "id": "TkFF9CELdprX",
        "colab_type": "code",
        "colab": {
          "base_uri": "https://localhost:8080/",
          "height": 101
        },
        "outputId": "73486921-7dce-44e0-8941-1184080029d7"
      },
      "cell_type": "code",
      "source": [
        "model5.fit({'input': x3_train}, {'targets': y3_train}, n_epoch = 5, validation_set = ({'input': x3_test}, {'targets': y3_test}),\n",
        "                snapshot_step = 2500, show_metric = True)"
      ],
      "execution_count": 23,
      "outputs": [
        {
          "output_type": "stream",
          "text": [
            "Training Step: 8594  | total loss: \u001b[1m\u001b[32m0.14955\u001b[0m\u001b[0m | time: 89.706s\n",
            "| Momentum | epoch: 005 | loss: 0.14955 - acc: 0.9760 -- iter: 109952/110000\n",
            "Training Step: 8595  | total loss: \u001b[1m\u001b[32m0.14105\u001b[0m\u001b[0m | time: 93.301s\n",
            "| Momentum | epoch: 005 | loss: 0.14105 - acc: 0.9768 | val_loss: 0.11694 - val_acc: 0.9697 -- iter: 110000/110000\n",
            "--\n"
          ],
          "name": "stdout"
        }
      ]
    },
    {
      "metadata": {
        "id": "o9VXY8bHg2E_",
        "colab_type": "code",
        "colab": {
          "base_uri": "https://localhost:8080/",
          "height": 415
        },
        "outputId": "0e55781b-5983-423c-9470-93b34b1c03c2"
      },
      "cell_type": "code",
      "source": [
        "temp = np.zeros((28, 28))\n",
        "for i in range(3):\n",
        "  for j in range(28):\n",
        "    temp[i][j] = float(1)\n",
        "\n",
        "i = np.random.randint(10000)\n",
        "j = np.random.randint(10000)\n",
        "plt.subplot(2, 2, 3)\n",
        "plt.imshow(np.reshape(x_test[i], (28, 28)))\n",
        "plt.subplot(2, 2, 4)\n",
        "plt.imshow(temp)\n",
        "plt.subplot(2, 2, 1)\n",
        "plt.imshow(np.reshape(x_test[i], (28, 28)))\n",
        "plt.subplot(2, 2, 2)\n",
        "plt.imshow( np.zeros((28, 28)))\n",
        "#plt.imshow(np.reshape(x_test[i], (28, 28)))\n",
        "plt.show()\n",
        "#print(i, j)\n",
        "print(\"prediction from model\", np.argmax( np.round(model5.predict([x1_test[i]])[0]) ))\n",
        "\n",
        "print(\"answer\", np.argmax(y_test[i]))\n",
        "\n",
        "print(\"prediction from model\", np.argmax( np.round(model5.predict([x2_test[i]])[0]) ))\n",
        "\n",
        "print(\"answer\", np.argmax(y2_test[i]))"
      ],
      "execution_count": 78,
      "outputs": [
        {
          "output_type": "display_data",
          "data": {
            "image/png": "[encoded data removed]",
            "text/plain": [
              "<Figure size 576x396 with 4 Axes>"
            ]
          },
          "metadata": {
            "tags": []
          }
        },
        {
          "output_type": "stream",
          "text": [
            "prediction from model 3\n",
            "answer 8\n",
            "prediction from model 4\n",
            "answer 9\n"
          ],
          "name": "stdout"
        }
      ]
    },
    {
      "metadata": {
        "id": "Zdu7J4IghFPz",
        "colab_type": "text"
      },
      "cell_type": "markdown",
      "source": [
        "#Sixth Result and Concolusion"
      ]
    },
    {
      "metadata": {
        "id": "TYhKb7YLhOu8",
        "colab_type": "text"
      },
      "cell_type": "markdown",
      "source": [
        "Not shuffling the data does give the same accuracy as all the other succesffull training runs if the metrics from the training run alone are seen. However, manually testing the model reveals that the model does produce wrong answers more often than the model that was trained on shuffled data. However, that observation is completely annecdotal and the observations could be because just a probabalistic anomaly.\n",
        "It is stil better to shuffle the data, just to be sure that the model does not over fit on any prevailing trends within the data.\n",
        "\n",
        "All the assumptions made in this experiment were stated with reason and proved through experimental results. The results from the models were satisfactory"
      ]
    }
  ]
}