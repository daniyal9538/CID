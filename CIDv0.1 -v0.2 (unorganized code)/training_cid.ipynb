{
  "nbformat": 4,
  "nbformat_minor": 0,
  "metadata": {
    "colab": {
      "name": "training_cid.ipynb",
      "version": "0.3.2",
      "provenance": [],
      "include_colab_link": true
    },
    "kernelspec": {
      "name": "python3",
      "display_name": "Python 3"
    },
    "accelerator": "GPU"
  },
  "cells": [
    {
      "cell_type": "markdown",
      "metadata": {
        "id": "view-in-github",
        "colab_type": "text"
      },
      "source": [
        "<a href=\"https://colab.research.google.com/github/daniyal9538/CID/blob/master/training_cid.ipynb\" target=\"_parent\"><img src=\"https://colab.research.google.com/assets/colab-badge.svg\" alt=\"Open In Colab\"/></a>"
      ]
    },
    {
      "metadata": {
        "id": "7TqVNrVUAdIX",
        "colab_type": "code",
        "colab": {}
      },
      "cell_type": "code",
      "source": [
        "import numpy as np\n",
        "from matplotlib import pyplot as plt\n",
        "import csv"
      ],
      "execution_count": 0,
      "outputs": []
    },
    {
      "metadata": {
        "id": "Fub09fMA5Veq",
        "colab_type": "code",
        "colab": {}
      },
      "cell_type": "code",
      "source": [
        "start_file = 1\n",
        "end_file = 10"
      ],
      "execution_count": 0,
      "outputs": []
    },
    {
      "metadata": {
        "id": "5eh1_VY68W2U",
        "colab_type": "code",
        "colab": {}
      },
      "cell_type": "code",
      "source": [
        "# Authenticate to GCS.\n",
        "from google.colab import auth\n",
        "auth.authenticate_user()\n",
        "\n",
        "# https://cloud.google.com/resource-manager/docs/creating-managing-projects\n",
        "project_id = 'test-demo-222423'\n",
        "bucket_name = 'cid_training_data'\n",
        "# Create the service client.\n",
        "from googleapiclient.discovery import build\n",
        "gcs_service = build('storage', 'v1')\n",
        "\n",
        "from apiclient.http import MediaIoBaseDownload\n",
        "count = [0]*9"
      ],
      "execution_count": 0,
      "outputs": []
    },
    {
      "metadata": {
        "id": "CeuS-c8-77wT",
        "colab_type": "code",
        "outputId": "4eec5921-302e-4b62-a30e-5c104a4fd142",
        "colab": {
          "base_uri": "https://localhost:8080/",
          "height": 195
        }
      },
      "cell_type": "code",
      "source": [
        "data=[]\n",
        "data_features=[]\n",
        "data_labels=[]\n",
        "for i in range (start_file, end_file+1):\n",
        "  try: \n",
        "      download_name = \"training_data-{}.npy\".format(i)\n",
        "      path_name = \"balanced_data/balanced_data-mod-5-{}.npy\".format(i)\n",
        "\n",
        "      with open(download_name, 'wb') as f:\n",
        "        # Download the file from a given Google Cloud Storage bucket.\n",
        "        request = gcs_service.objects().get_media(bucket=bucket_name,\n",
        "                                                  object=path_name)\n",
        "        media = MediaIoBaseDownload(f, request)\n",
        "\n",
        "        done = False\n",
        "        while not done:\n",
        "          # _ is a placeholder for a progress object that we ignore.\n",
        "          # (Our file is small, so we skip reporting progress.)\n",
        "          _, done = media.next_chunk()        \n",
        "      temp=np.load(download_name)\n",
        "      for x in temp:\n",
        "        data.append(x)\n",
        "        #data_features.append(x[0])\n",
        "        #data_labels.append(x[1])\n",
        "      !rm -rf $download_name\n",
        "      print('Download complete ', download_name)\n",
        "  except Exception as ex:\n",
        "    print('Download failed', download_name, ex)"
      ],
      "execution_count": 0,
      "outputs": [
        {
          "output_type": "stream",
          "text": [
            "Download complete  training_data-1.npy\n",
            "Download complete  training_data-2.npy\n",
            "Download complete  training_data-3.npy\n",
            "Download complete  training_data-4.npy\n",
            "Download complete  training_data-5.npy\n",
            "Download complete  training_data-6.npy\n",
            "Download complete  training_data-7.npy\n",
            "Download complete  training_data-8.npy\n",
            "Download complete  training_data-9.npy\n",
            "Download complete  training_data-10.npy\n"
          ],
          "name": "stdout"
        }
      ]
    },
    {
      "metadata": {
        "id": "e555PikvOY8V",
        "colab_type": "code",
        "colab": {}
      },
      "cell_type": "code",
      "source": [
        "data_features=[]\n",
        "data_labels=[]\n",
        "np.random.shuffle(data)\n",
        "for x in data:\n",
        "  data_features.append(x[0])\n",
        "  data_labels.append(x[1])"
      ],
      "execution_count": 0,
      "outputs": []
    },
    {
      "metadata": {
        "id": "pbX-wXYZ-1fH",
        "colab_type": "code",
        "outputId": "28ead9a3-9974-4d36-e694-9e2fcfea038e",
        "colab": {
          "base_uri": "https://localhost:8080/",
          "height": 70
        }
      },
      "cell_type": "code",
      "source": [
        "print(len(data))\n",
        "print(len(data_features))\n",
        "print(len(data_labels))"
      ],
      "execution_count": 0,
      "outputs": [
        {
          "output_type": "stream",
          "text": [
            "94370\n",
            "94370\n",
            "94370\n"
          ],
          "name": "stdout"
        }
      ]
    },
    {
      "metadata": {
        "id": "4HmUBZQU_h21",
        "colab_type": "code",
        "outputId": "12d9b1ad-7467-4c44-fcbc-82e965486c56",
        "colab": {
          "base_uri": "https://localhost:8080/",
          "height": 368
        }
      },
      "cell_type": "code",
      "source": [
        "i =989\n",
        "print(data_labels[i], data[i][1])\n",
        "image1=data_features[i]\n",
        "image=data[i][0]\n",
        "plt.imshow(image)\n",
        "plt.show()"
      ],
      "execution_count": 0,
      "outputs": [
        {
          "output_type": "stream",
          "text": [
            "[0, 0, 0, 1, 0] [0, 0, 0, 1, 0]\n"
          ],
          "name": "stdout"
        },
        {
          "output_type": "display_data",
          "data": {
            "image/png": "[encoded data removed]",
            "text/plain": [
              "<matplotlib.figure.Figure at 0x7f7e21649e80>"
            ]
          },
          "metadata": {
            "tags": []
          }
        }
      ]
    },
    {
      "metadata": {
        "id": "XGd1XEbeAE1w",
        "colab_type": "code",
        "outputId": "61cf7261-41a6-47ef-a12e-9e1a5f716cd1",
        "colab": {
          "base_uri": "https://localhost:8080/",
          "height": 350
        }
      },
      "cell_type": "code",
      "source": [
        "plt.imshow(image1)\n",
        "plt.show()"
      ],
      "execution_count": 0,
      "outputs": [
        {
          "output_type": "display_data",
          "data": {
            "image/png": "[encoded data removed]",
            "text/plain": [
              "<matplotlib.figure.Figure at 0x7f7e1f620da0>"
            ]
          },
          "metadata": {
            "tags": []
          }
        }
      ]
    },
    {
      "metadata": {
        "id": "RitWFERMKXM8",
        "colab_type": "code",
        "colab": {}
      },
      "cell_type": "code",
      "source": [
        "X=[]\n",
        "Y=[]\n",
        "X_test=[]\n",
        "Y_test=[]\n",
        "#X.clear()"
      ],
      "execution_count": 0,
      "outputs": []
    },
    {
      "metadata": {
        "id": "K62BCTh3BbXo",
        "colab_type": "code",
        "outputId": "93c52f6f-20bd-4bf7-8ec5-ddcf22d3fb69",
        "colab": {
          "base_uri": "https://localhost:8080/",
          "height": 35
        }
      },
      "cell_type": "code",
      "source": [
        "X=data_features[:-9400]\n",
        "Y=data_labels[:-9400]\n",
        "\n",
        "X_test=data_features[-9400:]\n",
        "Y_test=data_labels[-9400:]\n",
        "print(len(X_test), len(X))\n",
        "\n",
        "X=np.array(X)\n",
        "Y=np.array(Y)\n",
        "X=X.reshape([-1, 160, 120, 1])\n",
        "\n",
        "X_test=np.array(X_test)\n",
        "Y_test=np.array(Y_test)\n",
        "X_test=X_test.reshape([-1, 160, 120, 1])\n",
        "\n"
      ],
      "execution_count": 0,
      "outputs": [
        {
          "output_type": "stream",
          "text": [
            "9400 84970\n"
          ],
          "name": "stdout"
        }
      ]
    },
    {
      "metadata": {
        "id": "2dq9VjWkE-JU",
        "colab_type": "code",
        "outputId": "4ef85719-3994-46b6-d731-320155680722",
        "colab": {
          "base_uri": "https://localhost:8080/",
          "height": 88
        }
      },
      "cell_type": "code",
      "source": [
        "print(X_test.shape)\n",
        "print(X.shape)\n",
        "print(Y_test.shape)\n",
        "print(Y.shape)"
      ],
      "execution_count": 0,
      "outputs": [
        {
          "output_type": "stream",
          "text": [
            "(9400, 160, 120, 1)\n",
            "(84970, 160, 120, 1)\n",
            "(9400, 5)\n",
            "(84970, 5)\n"
          ],
          "name": "stdout"
        }
      ]
    },
    {
      "metadata": {
        "id": "sODz9UgTCjVx",
        "colab_type": "code",
        "colab": {}
      },
      "cell_type": "code",
      "source": [
        "MODEL_NAME='cid-simplifiedV0.16'"
      ],
      "execution_count": 0,
      "outputs": []
    },
    {
      "metadata": {
        "id": "57TdTI1qCsR9",
        "colab_type": "code",
        "colab": {}
      },
      "cell_type": "code",
      "source": [
        "!pip install -q tflearn"
      ],
      "execution_count": 0,
      "outputs": []
    },
    {
      "metadata": {
        "id": "cIRBDjGFA83M",
        "colab_type": "code",
        "colab": {}
      },
      "cell_type": "code",
      "source": [
        "import tflearn\n",
        "from tflearn.layers.conv import conv_2d, max_pool_2d,avg_pool_2d, conv_3d, max_pool_3d, avg_pool_3d\n",
        "from tflearn.layers.core import input_data, dropout, fully_connected\n",
        "from tflearn.layers.estimator import regression\n",
        "from tflearn.layers.normalization import local_response_normalization\n",
        "from tflearn.layers.merge_ops import merge"
      ],
      "execution_count": 0,
      "outputs": []
    },
    {
      "metadata": {
        "id": "ilkho7SeBC3H",
        "colab_type": "code",
        "colab": {}
      },
      "cell_type": "code",
      "source": [
        "def modified_alexnet(width, height, lr, output=4):\n",
        "    network = input_data(shape=[None, width, height, 1], name='input')\n",
        "    network = conv_2d(network, 96, 11, strides=4, activation='relu')\n",
        "    #network = max_pool_2d(network, 3, strides=2)\n",
        "    network = local_response_normalization(network)\n",
        "    network = conv_2d(network, 256, 5, activation='relu')\n",
        "    #network = max_pool_2d(network, 3, strides=2)\n",
        "    network = local_response_normalization(network)\n",
        "    network = conv_2d(network, 384, 3, activation='relu')\n",
        "    network = conv_2d(network, 384, 3, activation='relu')\n",
        "    network = conv_2d(network, 256, 3, activation='relu')\n",
        "    network = max_pool_2d(network, 3, strides=2)\n",
        "    network = conv_2d(network, 256, 5, activation='relu')\n",
        "    #network = max_pool_2d(network, 3, strides=2)\n",
        "    network = local_response_normalization(network)\n",
        "    network = conv_2d(network, 384, 3, activation='relu')\n",
        "    network = conv_2d(network, 384, 3, activation='relu')\n",
        "    network = conv_2d(network, 256, 3, activation='relu')\n",
        "    #network = max_pool_2d(network, 3, strides=2)\n",
        "    network = local_response_normalization(network)\n",
        "    \n",
        "   \n",
        "    \n",
        "    network = fully_connected(network, 4096, activation='relu')\n",
        "    network = dropout(network, 0.85)\n",
        "    network = fully_connected(network, output, activation='softmax')\n",
        "    network = regression(network, optimizer='momentum',\n",
        "                         loss='categorical_crossentropy',\n",
        "                         learning_rate=lr, name='targets')\n",
        "\n",
        "    model = tflearn.DNN(network, checkpoint_path='model_alexnetv0.13',\n",
        "                        max_checkpoints=1, tensorboard_verbose=0, tensorboard_dir='log')\n",
        "\n",
        "    return model"
      ],
      "execution_count": 0,
      "outputs": []
    },
    {
      "metadata": {
        "id": "uIEgZbWrF0pG",
        "colab_type": "code",
        "colab": {}
      },
      "cell_type": "code",
      "source": [
        "def alexnet_modified_v1(width, height, lr, output=9, model_name = 'alexnet_v1'):\n",
        "    network = input_data(shape=[None, width, height, 1], name='input')\n",
        "    network = conv_2d(network, 96, 11, strides=4, activation='relu')\n",
        "    network = max_pool_2d(network, 1, strides=2)\n",
        "    #network = local_response_normalization(network)\n",
        "    network = conv_2d(network, 256, 5, activation='relu')\n",
        "    network = max_pool_2d(network, 1, strides=2)\n",
        "    #network = local_response_normalization(network)\n",
        "    network = conv_2d(network, 384, 1, activation='relu')\n",
        "    network = conv_2d(network, 384, 1, activation='relu')\n",
        "    network = conv_2d(network, 256, 1, activation='relu')\n",
        "    network = max_pool_2d(network, 1, strides=2)\n",
        "    network = conv_2d(network, 256, 1, activation='relu')\n",
        "    network = max_pool_2d(network, 1, strides=2)\n",
        "    #network = local_response_normalization(network)\n",
        "    network = conv_2d(network, 384, 1, activation='relu')\n",
        "    network = conv_2d(network, 384, 1, activation='relu')\n",
        "    network = conv_2d(network, 256, 1, activation='relu')\n",
        "    network = max_pool_2d(network, 1, strides=2)\n",
        "    network = local_response_normalization(network)\n",
        "    network = fully_connected(network, 4096, activation='relu')\n",
        "    network = dropout(network, 0.5)\n",
        "    network = fully_connected(network, 4096, activation='relu')\n",
        "    network = dropout(network, 0.5)\n",
        "    network = fully_connected(network, 4096, activation='relu')\n",
        "    network = dropout(network, 0.5)\n",
        "    network = fully_connected(network, 4096, activation='relu')\n",
        "    network = dropout(network, 0.5)\n",
        "    network = fully_connected(network, output, activation='softmax')\n",
        "    network = regression(network, optimizer='momentum',\n",
        "                         loss='categorical_crossentropy',\n",
        "                         learning_rate=lr, name='targets')\n",
        "\n",
        "    model = tflearn.DNN(network, checkpoint_path=model_name,\n",
        "                        max_checkpoints=1, tensorboard_verbose=0, tensorboard_dir='log')\n",
        "\n",
        "    return model"
      ],
      "execution_count": 0,
      "outputs": []
    },
    {
      "metadata": {
        "id": "h98wRv-hBODS",
        "colab_type": "code",
        "outputId": "d266b135-5e13-4722-e972-d57172365e83",
        "colab": {
          "base_uri": "https://localhost:8080/",
          "height": 144
        }
      },
      "cell_type": "code",
      "source": [
        "model =modified_alexnet(160, 120, 1e-3, output=5)"
      ],
      "execution_count": 0,
      "outputs": [
        {
          "output_type": "stream",
          "text": [
            "WARNING:tensorflow:From /usr/local/lib/python3.6/dist-packages/tflearn/initializations.py:119: UniformUnitScaling.__init__ (from tensorflow.python.ops.init_ops) is deprecated and will be removed in a future version.\n",
            "Instructions for updating:\n",
            "Use tf.initializers.variance_scaling instead with distribution=uniform to get equivalent behavior.\n",
            "WARNING:tensorflow:From /usr/local/lib/python3.6/dist-packages/tflearn/objectives.py:66: calling reduce_sum (from tensorflow.python.ops.math_ops) with keep_dims is deprecated and will be removed in a future version.\n",
            "Instructions for updating:\n",
            "keep_dims is deprecated, use keepdims instead\n"
          ],
          "name": "stdout"
        }
      ]
    },
    {
      "metadata": {
        "id": "cXr5QRrtFInx",
        "colab_type": "code",
        "colab": {}
      },
      "cell_type": "code",
      "source": [
        "model1 =alexnet_modified_v1(160, 120, 1e-3, 9, MODEL_NAME)"
      ],
      "execution_count": 0,
      "outputs": []
    },
    {
      "metadata": {
        "id": "bKxyC5CKCeNe",
        "colab_type": "code",
        "outputId": "6fe966ad-4894-4658-ecc3-840a8633eb79",
        "colab": {
          "base_uri": "https://localhost:8080/",
          "height": 52
        }
      },
      "cell_type": "code",
      "source": [
        "model.fit({'input': X}, {'targets': Y}, n_epoch = 30,validation_set = ({'input': X_test}, {'targets': Y_test}),\n",
        "                snapshot_step = 2500, show_metric = True, run_id = 'MODEL_NAME')\n",
        "model.save(MODEL_NAME)"
      ],
      "execution_count": 0,
      "outputs": [
        {
          "output_type": "stream",
          "text": [
            "Training Step: 1535  | total loss: \u001b[1m\u001b[32m1.46857\u001b[0m\u001b[0m | time: 176.177s\n",
            "\u001b[2K\r| Momentum | epoch: 002 | loss: 1.46857 - acc: 0.3594 -- iter: 13248/84970\n"
          ],
          "name": "stdout"
        }
      ]
    },
    {
      "metadata": {
        "id": "tCU9HfrFF47-",
        "colab_type": "code",
        "colab": {}
      },
      "cell_type": "code",
      "source": [
        "model1.fit({'input': X}, {'targets': Y}, n_epoch = 30, validation_set = ({'input': X_test}, {'targets': Y_test}),\n",
        "                snapshot_step = 2500, show_metric = True, run_id = MODEL_NAME)\n",
        "model1.save(MODEL_NAME)"
      ],
      "execution_count": 0,
      "outputs": []
    },
    {
      "metadata": {
        "id": "WOjQIiKWRkqG",
        "colab_type": "code",
        "colab": {}
      },
      "cell_type": "code",
      "source": [
        "while(True):\n",
        "  pass"
      ],
      "execution_count": 0,
      "outputs": []
    }
  ]
}