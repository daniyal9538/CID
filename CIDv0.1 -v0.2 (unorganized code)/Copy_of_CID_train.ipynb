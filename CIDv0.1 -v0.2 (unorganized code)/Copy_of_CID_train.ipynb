{
  "nbformat": 4,
  "nbformat_minor": 0,
  "metadata": {
    "colab": {
      "name": "Copy of CID train.ipynb",
      "version": "0.3.2",
      "provenance": [],
      "collapsed_sections": [],
      "toc_visible": true,
      "include_colab_link": true
    },
    "kernelspec": {
      "name": "python3",
      "display_name": "Python 3"
    },
    "accelerator": "GPU"
  },
  "cells": [
    {
      "cell_type": "markdown",
      "metadata": {
        "id": "view-in-github",
        "colab_type": "text"
      },
      "source": [
        "<a href=\"https://colab.research.google.com/github/daniyal9538/CID/blob/master/Copy_of_CID_train.ipynb\" target=\"_parent\"><img src=\"https://colab.research.google.com/assets/colab-badge.svg\" alt=\"Open In Colab\"/></a>"
      ]
    },
    {
      "metadata": {
        "id": "AaqoJguZ5HIe",
        "colab_type": "text"
      },
      "cell_type": "markdown",
      "source": [
        "Author: Daniyal Selani"
      ]
    },
    {
      "metadata": {
        "id": "pq_A-IlRDpM9",
        "colab_type": "text"
      },
      "cell_type": "markdown",
      "source": [
        "#Get data from bucket"
      ]
    },
    {
      "metadata": {
        "id": "7pd8mZ6a47Ld",
        "colab_type": "text"
      },
      "cell_type": "markdown",
      "source": [
        "Get data from cloud storage bucket and store files into notebook memory\n",
        "The files are retrieved sequentially "
      ]
    },
    {
      "metadata": {
        "id": "Mbt5phTsHpzO",
        "colab_type": "code",
        "outputId": "cc45b435-7312-440f-8054-6393e5e9fff2",
        "colab": {
          "base_uri": "https://localhost:8080/",
          "height": 195
        }
      },
      "cell_type": "code",
      "source": [
        "# Authenticate to GCS.\n",
        "from google.colab import auth\n",
        "auth.authenticate_user()\n",
        "\n",
        "# https://cloud.google.com/resource-manager/docs/creating-managing-projects\n",
        "project_id = 'test-demo-222423'\n",
        "bucket_name = 'cid_training_data'\n",
        "# Create the service client.\n",
        "from googleapiclient.discovery import build\n",
        "gcs_service = build('storage', 'v1')\n",
        "\n",
        "from apiclient.http import MediaIoBaseDownload\n",
        "\n",
        "for i in range(1, 11):\n",
        "  download_name = \"training_data-{}.npy\".format(i)\n",
        "  path_name = \"balanced_data/balanced_data-mod-5-{}.npy\".format(i)\n",
        "  \n",
        "  with open(download_name, 'wb') as f:\n",
        "    # Download the file from a given Google Cloud Storage bucket.\n",
        "    request = gcs_service.objects().get_media(bucket=bucket_name,\n",
        "                                              object=path_name)\n",
        "    media = MediaIoBaseDownload(f, request)\n",
        "\n",
        "    done = False\n",
        "    while not done:\n",
        "      # _ is a placeholder for a progress object that we ignore.\n",
        "      # (Our file is small, so we skip reporting progress.)\n",
        "      _, done = media.next_chunk()        \n",
        "\n",
        "  print('Download complete', download_name)"
      ],
      "execution_count": 0,
      "outputs": [
        {
          "output_type": "stream",
          "text": [
            "Download complete training_data-1.npy\n",
            "Download complete training_data-2.npy\n",
            "Download complete training_data-3.npy\n",
            "Download complete training_data-4.npy\n",
            "Download complete training_data-5.npy\n",
            "Download complete training_data-6.npy\n",
            "Download complete training_data-7.npy\n",
            "Download complete training_data-8.npy\n",
            "Download complete training_data-9.npy\n",
            "Download complete training_data-10.npy\n"
          ],
          "name": "stdout"
        }
      ]
    },
    {
      "metadata": {
        "id": "3ysfKcZt_qra",
        "colab_type": "text"
      },
      "cell_type": "markdown",
      "source": [
        "#Test Data"
      ]
    },
    {
      "metadata": {
        "id": "-3eK61uk_sqY",
        "colab_type": "code",
        "colab": {}
      },
      "cell_type": "code",
      "source": [
        "import numpy as np\n",
        "from matplotlib import pyplot as plt\n",
        "import csv"
      ],
      "execution_count": 0,
      "outputs": []
    },
    {
      "metadata": {
        "id": "PbU3O-jdKHli",
        "colab_type": "code",
        "outputId": "afae50a2-5b8a-434d-c908-7d396955e116",
        "colab": {
          "base_uri": "https://localhost:8080/",
          "height": 386
        }
      },
      "cell_type": "code",
      "source": [
        "\n",
        "\n",
        "\n",
        "\n",
        "fileName =  \"training_data-{}.npy\".format(6)\n",
        "test = np.load(fileName)\n",
        "print(len(test))\n",
        "i =9400\n",
        "\n",
        "print(test[i][1])\n",
        "image= test[i][0]\n",
        "plt.imshow(image)\n",
        "plt.show()    "
      ],
      "execution_count": 0,
      "outputs": [
        {
          "output_type": "stream",
          "text": [
            "9437\n",
            "[0, 0, 0, 1, 0]\n"
          ],
          "name": "stdout"
        },
        {
          "output_type": "display_data",
          "data": {
            "image/png": "[encoded data removed]",
            "text/plain": [
              "<Figure size 576x396 with 1 Axes>"
            ]
          },
          "metadata": {
            "tags": []
          }
        }
      ]
    },
    {
      "metadata": {
        "id": "fHmooz9AmIfE",
        "colab_type": "text"
      },
      "cell_type": "markdown",
      "source": [
        "#Count Data"
      ]
    },
    {
      "metadata": {
        "id": "4NUnVEGHmM-E",
        "colab_type": "code",
        "outputId": "3051f743-3fc8-40d3-885a-604044fab823",
        "colab": {
          "base_uri": "https://localhost:8080/",
          "height": 374
        }
      },
      "cell_type": "code",
      "source": [
        "count = [0]*9\n",
        "\n",
        "for x in range(1, 7):\n",
        "  tempCount = [0]*9\n",
        "  filename = \"training_data-{}.npy\".format(x)\n",
        "  data = np.load(filename)\n",
        "  for i in data:\n",
        "    \n",
        "    t = np.argmax(i[1])\n",
        "    count[t]+=1\n",
        "    tempCount[t]+=1\n",
        "  sum =0\n",
        "  for i in tempCount:\n",
        "    sum+=i\n",
        "  print(sum)\n",
        "  print(tempCount)\n",
        "  s=[100*j/sum for j in tempCount]\n",
        "  print (s)\n",
        "  with open('dataD.csv','a') as fd:\n",
        "    writer = csv.writer(fd)\n",
        "    writer.writerow(s)\n",
        "  with open('dataC.csv','a') as fd:\n",
        "    writer = csv.writer(fd)\n",
        "    writer.writerow(tempCount)\n",
        "sum =0\n",
        "for i in count:\n",
        "    sum+=i\n",
        "print(sum)\n",
        "print(count)\n",
        "s=[100*j/sum for j in count]\n",
        "print (s)\n",
        "with open('dataD.csv','a') as fd:\n",
        "  writer = csv.writer(fd)\n",
        "  writer.writerow(s)\n",
        "with open('dataC.csv','a') as fd:\n",
        "  writer = csv.writer(fd)\n",
        "  writer.writerow(count)\n",
        "#w s a d wa wd sa sd nk"
      ],
      "execution_count": 0,
      "outputs": [
        {
          "output_type": "stream",
          "text": [
            "10000\n",
            "[2671, 313, 60, 112, 405, 225, 3, 29, 6182]\n",
            "[26.71, 3.13, 0.6, 1.12, 4.05, 2.25, 0.03, 0.29, 61.82]\n",
            "10000\n",
            "[2689, 328, 80, 101, 282, 255, 3, 0, 6262]\n",
            "[26.89, 3.28, 0.8, 1.01, 2.82, 2.55, 0.03, 0.0, 62.62]\n",
            "10000\n",
            "[4446, 293, 140, 121, 350, 239, 3, 9, 4399]\n",
            "[44.46, 2.93, 1.4, 1.21, 3.5, 2.39, 0.03, 0.09, 43.99]\n",
            "10000\n",
            "[3401, 494, 59, 51, 271, 271, 15, 7, 5431]\n",
            "[34.01, 4.94, 0.59, 0.51, 2.71, 2.71, 0.15, 0.07, 54.31]\n",
            "10000\n",
            "[3002, 385, 76, 79, 167, 159, 0, 0, 6132]\n",
            "[30.02, 3.85, 0.76, 0.79, 1.67, 1.59, 0.0, 0.0, 61.32]\n",
            "10000\n",
            "[3205, 387, 63, 71, 228, 112, 2, 16, 5916]\n",
            "[32.05, 3.87, 0.63, 0.71, 2.28, 1.12, 0.02, 0.16, 59.16]\n",
            "60000\n",
            "[19414, 2200, 478, 535, 1703, 1261, 26, 61, 34322]\n",
            "[32.35666666666667, 3.6666666666666665, 0.7966666666666666, 0.8916666666666667, 2.8383333333333334, 2.1016666666666666, 0.043333333333333335, 0.10166666666666667, 57.20333333333333]\n"
          ],
          "name": "stdout"
        }
      ]
    },
    {
      "metadata": {
        "id": "AZrVXOQG6HXZ",
        "colab_type": "text"
      },
      "cell_type": "markdown",
      "source": [
        "# Get dependecies\n"
      ]
    },
    {
      "metadata": {
        "id": "o5VpL3rMKsa7",
        "colab_type": "code",
        "colab": {}
      },
      "cell_type": "code",
      "source": [
        "!pip install -q tflearn\n",
        "import numpy as np\n",
        "import time\n",
        "from random import shuffle"
      ],
      "execution_count": 0,
      "outputs": []
    },
    {
      "metadata": {
        "id": "DUAKpyFgKjei",
        "colab_type": "code",
        "colab": {}
      },
      "cell_type": "code",
      "source": [
        "import tflearn\n",
        "from tflearn.layers.conv import conv_2d, max_pool_2d,avg_pool_2d, conv_3d, max_pool_3d, avg_pool_3d\n",
        "from tflearn.layers.core import input_data, dropout, fully_connected\n",
        "from tflearn.layers.estimator import regression\n",
        "from tflearn.layers.normalization import local_response_normalization\n",
        "from tflearn.layers.merge_ops import merge"
      ],
      "execution_count": 0,
      "outputs": []
    },
    {
      "metadata": {
        "id": "LXdpRiUdFGBj",
        "colab_type": "text"
      },
      "cell_type": "markdown",
      "source": [
        "#Define models"
      ]
    },
    {
      "metadata": {
        "id": "z2vPbAif4utb",
        "colab_type": "text"
      },
      "cell_type": "markdown",
      "source": [
        "Define the model architecture that is going to be trained"
      ]
    },
    {
      "metadata": {
        "id": "1vsrrSkcAARX",
        "colab_type": "code",
        "colab": {}
      },
      "cell_type": "code",
      "source": [
        "def modified_alexnet(width, height, lr, output=4):\n",
        "    network = input_data(shape=[None, width, height, 1], name='input')\n",
        "    network = conv_2d(network, 96, 11, strides=4, activation='relu')\n",
        "    #network = max_pool_2d(network, 3, strides=2)\n",
        "    network = local_response_normalization(network)\n",
        "    network = conv_2d(network, 256, 5, activation='relu')\n",
        "    #network = max_pool_2d(network, 3, strides=2)\n",
        "    network = local_response_normalization(network)\n",
        "    network = conv_2d(network, 384, 3, activation='relu')\n",
        "    network = conv_2d(network, 384, 3, activation='relu')\n",
        "    network = conv_2d(network, 256, 3, activation='relu')\n",
        "    network = max_pool_2d(network, 3, strides=2)\n",
        "    network = conv_2d(network, 256, 5, activation='relu')\n",
        "    #network = max_pool_2d(network, 3, strides=2)\n",
        "    network = local_response_normalization(network)\n",
        "    network = conv_2d(network, 384, 3, activation='relu')\n",
        "    network = conv_2d(network, 384, 3, activation='relu')\n",
        "    network = conv_2d(network, 256, 3, activation='relu')\n",
        "    #network = max_pool_2d(network, 3, strides=2)\n",
        "    network = local_response_normalization(network)\n",
        "    \n",
        "   \n",
        "    \n",
        "    network = fully_connected(network, 4096, activation='relu')\n",
        "    network = dropout(network, 0.85)\n",
        "    network = fully_connected(network, output, activation='softmax')\n",
        "    network = regression(network, optimizer='momentum',\n",
        "                         loss='categorical_crossentropy',\n",
        "                         learning_rate=lr, name='targets')\n",
        "\n",
        "    model = tflearn.DNN(network, checkpoint_path='model_alexnetv0.13',\n",
        "                        max_checkpoints=1, tensorboard_verbose=0, tensorboard_dir='log')\n",
        "\n",
        "    return model"
      ],
      "execution_count": 0,
      "outputs": []
    },
    {
      "metadata": {
        "id": "6AXWi2LEKo_9",
        "colab_type": "code",
        "colab": {}
      },
      "cell_type": "code",
      "source": [
        "\n",
        "def inception_v3(width, height, frame_count, lr, output=9, model_name = 'inceptionv3'):\n",
        "    network = input_data(shape=[None, width, height,3], name='input')\n",
        "    conv1_7_7 = conv_2d(network, 64, 7, strides=2, activation='relu', name = 'conv1_7_7_s2')\n",
        "    pool1_3_3 = max_pool_2d(conv1_7_7, 3,strides=2)\n",
        "    pool1_3_3 = local_response_normalization(pool1_3_3)\n",
        "    conv2_3_3_reduce = conv_2d(pool1_3_3, 64,1, activation='relu',name = 'conv2_3_3_reduce')\n",
        "    conv2_3_3 = conv_2d(conv2_3_3_reduce, 192,3, activation='relu', name='conv2_3_3')\n",
        "    conv2_3_3 = local_response_normalization(conv2_3_3)\n",
        "    pool2_3_3 = max_pool_2d(conv2_3_3, kernel_size=3, strides=2, name='pool2_3_3_s2')\n",
        "    inception_3a_1_1 = conv_2d(pool2_3_3, 64, 1, activation='relu', name='inception_3a_1_1')\n",
        "    inception_3a_3_3_reduce = conv_2d(pool2_3_3, 96,1, activation='relu', name='inception_3a_3_3_reduce')\n",
        "    inception_3a_3_3 = conv_2d(inception_3a_3_3_reduce, 128,filter_size=3,  activation='relu', name = 'inception_3a_3_3')\n",
        "    inception_3a_5_5_reduce = conv_2d(pool2_3_3,16, filter_size=1,activation='relu', name ='inception_3a_5_5_reduce' )\n",
        "    inception_3a_5_5 = conv_2d(inception_3a_5_5_reduce, 32, filter_size=5, activation='relu', name= 'inception_3a_5_5')\n",
        "    inception_3a_pool = max_pool_2d(pool2_3_3, kernel_size=3, strides=1, )\n",
        "    inception_3a_pool_1_1 = conv_2d(inception_3a_pool, 32, filter_size=1, activation='relu', name='inception_3a_pool_1_1')\n",
        "\n",
        "    # merge the inception_3a__\n",
        "    inception_3a_output = merge([inception_3a_1_1, inception_3a_3_3, inception_3a_5_5, inception_3a_pool_1_1], mode='concat', axis=3)\n",
        "\n",
        "    inception_3b_1_1 = conv_2d(inception_3a_output, 128,filter_size=1,activation='relu', name= 'inception_3b_1_1' )\n",
        "    inception_3b_3_3_reduce = conv_2d(inception_3a_output, 128, filter_size=1, activation='relu', name='inception_3b_3_3_reduce')\n",
        "    inception_3b_3_3 = conv_2d(inception_3b_3_3_reduce, 192, filter_size=3,  activation='relu',name='inception_3b_3_3')\n",
        "    inception_3b_5_5_reduce = conv_2d(inception_3a_output, 32, filter_size=1, activation='relu', name = 'inception_3b_5_5_reduce')\n",
        "    inception_3b_5_5 = conv_2d(inception_3b_5_5_reduce, 96, filter_size=5,  name = 'inception_3b_5_5')\n",
        "    inception_3b_pool = max_pool_2d(inception_3a_output, kernel_size=3, strides=1,  name='inception_3b_pool')\n",
        "    inception_3b_pool_1_1 = conv_2d(inception_3b_pool, 64, filter_size=1,activation='relu', name='inception_3b_pool_1_1')\n",
        "\n",
        "    #merge the inception_3b_*\n",
        "    inception_3b_output = merge([inception_3b_1_1, inception_3b_3_3, inception_3b_5_5, inception_3b_pool_1_1], mode='concat',axis=3,name='inception_3b_output')\n",
        "\n",
        "    pool3_3_3 = max_pool_2d(inception_3b_output, kernel_size=3, strides=2, name='pool3_3_3')\n",
        "    inception_4a_1_1 = conv_2d(pool3_3_3, 192, filter_size=1, activation='relu', name='inception_4a_1_1')\n",
        "    inception_4a_3_3_reduce = conv_2d(pool3_3_3, 96, filter_size=1, activation='relu', name='inception_4a_3_3_reduce')\n",
        "    inception_4a_3_3 = conv_2d(inception_4a_3_3_reduce, 208, filter_size=3,  activation='relu', name='inception_4a_3_3')\n",
        "    inception_4a_5_5_reduce = conv_2d(pool3_3_3, 16, filter_size=1, activation='relu', name='inception_4a_5_5_reduce')\n",
        "    inception_4a_5_5 = conv_2d(inception_4a_5_5_reduce, 48, filter_size=5,  activation='relu', name='inception_4a_5_5')\n",
        "    inception_4a_pool = max_pool_2d(pool3_3_3, kernel_size=3, strides=1,  name='inception_4a_pool')\n",
        "    inception_4a_pool_1_1 = conv_2d(inception_4a_pool, 64, filter_size=1, activation='relu', name='inception_4a_pool_1_1')\n",
        "\n",
        "    inception_4a_output = merge([inception_4a_1_1, inception_4a_3_3, inception_4a_5_5, inception_4a_pool_1_1], mode='concat', axis=3, name='inception_4a_output')\n",
        "\n",
        "\n",
        "    inception_4b_1_1 = conv_2d(inception_4a_output, 160, filter_size=1, activation='relu', name='inception_4a_1_1')\n",
        "    inception_4b_3_3_reduce = conv_2d(inception_4a_output, 112, filter_size=1, activation='relu', name='inception_4b_3_3_reduce')\n",
        "    inception_4b_3_3 = conv_2d(inception_4b_3_3_reduce, 224, filter_size=3, activation='relu', name='inception_4b_3_3')\n",
        "    inception_4b_5_5_reduce = conv_2d(inception_4a_output, 24, filter_size=1, activation='relu', name='inception_4b_5_5_reduce')\n",
        "    inception_4b_5_5 = conv_2d(inception_4b_5_5_reduce, 64, filter_size=5,  activation='relu', name='inception_4b_5_5')\n",
        "\n",
        "    inception_4b_pool = max_pool_2d(inception_4a_output, kernel_size=3, strides=1,  name='inception_4b_pool')\n",
        "    inception_4b_pool_1_1 = conv_2d(inception_4b_pool, 64, filter_size=1, activation='relu', name='inception_4b_pool_1_1')\n",
        "\n",
        "    inception_4b_output = merge([inception_4b_1_1, inception_4b_3_3, inception_4b_5_5, inception_4b_pool_1_1], mode='concat', axis=3, name='inception_4b_output')\n",
        "\n",
        "\n",
        "    inception_4c_1_1 = conv_2d(inception_4b_output, 128, filter_size=1, activation='relu',name='inception_4c_1_1')\n",
        "    inception_4c_3_3_reduce = conv_2d(inception_4b_output, 128, filter_size=1, activation='relu', name='inception_4c_3_3_reduce')\n",
        "    inception_4c_3_3 = conv_2d(inception_4c_3_3_reduce, 256,  filter_size=3, activation='relu', name='inception_4c_3_3')\n",
        "    inception_4c_5_5_reduce = conv_2d(inception_4b_output, 24, filter_size=1, activation='relu', name='inception_4c_5_5_reduce')\n",
        "    inception_4c_5_5 = conv_2d(inception_4c_5_5_reduce, 64,  filter_size=5, activation='relu', name='inception_4c_5_5')\n",
        "\n",
        "    inception_4c_pool = max_pool_2d(inception_4b_output, kernel_size=3, strides=1)\n",
        "    inception_4c_pool_1_1 = conv_2d(inception_4c_pool, 64, filter_size=1, activation='relu', name='inception_4c_pool_1_1')\n",
        "\n",
        "    inception_4c_output = merge([inception_4c_1_1, inception_4c_3_3, inception_4c_5_5, inception_4c_pool_1_1], mode='concat', axis=3,name='inception_4c_output')\n",
        "\n",
        "    inception_4d_1_1 = conv_2d(inception_4c_output, 112, filter_size=1, activation='relu', name='inception_4d_1_1')\n",
        "    inception_4d_3_3_reduce = conv_2d(inception_4c_output, 144, filter_size=1, activation='relu', name='inception_4d_3_3_reduce')\n",
        "    inception_4d_3_3 = conv_2d(inception_4d_3_3_reduce, 288, filter_size=3, activation='relu', name='inception_4d_3_3')\n",
        "    inception_4d_5_5_reduce = conv_2d(inception_4c_output, 32, filter_size=1, activation='relu', name='inception_4d_5_5_reduce')\n",
        "    inception_4d_5_5 = conv_2d(inception_4d_5_5_reduce, 64, filter_size=5,  activation='relu', name='inception_4d_5_5')\n",
        "    inception_4d_pool = max_pool_2d(inception_4c_output, kernel_size=3, strides=1,  name='inception_4d_pool')\n",
        "    inception_4d_pool_1_1 = conv_2d(inception_4d_pool, 64, filter_size=1, activation='relu', name='inception_4d_pool_1_1')\n",
        "\n",
        "    inception_4d_output = merge([inception_4d_1_1, inception_4d_3_3, inception_4d_5_5, inception_4d_pool_1_1], mode='concat', axis=3, name='inception_4d_output')\n",
        "\n",
        "    inception_4e_1_1 = conv_2d(inception_4d_output, 256, filter_size=1, activation='relu', name='inception_4e_1_1')\n",
        "    inception_4e_3_3_reduce = conv_2d(inception_4d_output, 160, filter_size=1, activation='relu', name='inception_4e_3_3_reduce')\n",
        "    inception_4e_3_3 = conv_2d(inception_4e_3_3_reduce, 320, filter_size=3, activation='relu', name='inception_4e_3_3')\n",
        "    inception_4e_5_5_reduce = conv_2d(inception_4d_output, 32, filter_size=1, activation='relu', name='inception_4e_5_5_reduce')\n",
        "    inception_4e_5_5 = conv_2d(inception_4e_5_5_reduce, 128,  filter_size=5, activation='relu', name='inception_4e_5_5')\n",
        "    inception_4e_pool = max_pool_2d(inception_4d_output, kernel_size=3, strides=1,  name='inception_4e_pool')\n",
        "    inception_4e_pool_1_1 = conv_2d(inception_4e_pool, 128, filter_size=1, activation='relu', name='inception_4e_pool_1_1')\n",
        "\n",
        "\n",
        "    inception_4e_output = merge([inception_4e_1_1, inception_4e_3_3, inception_4e_5_5,inception_4e_pool_1_1],axis=3, mode='concat')\n",
        "\n",
        "    pool4_3_3 = max_pool_2d(inception_4e_output, kernel_size=3, strides=2, name='pool_3_3')\n",
        "\n",
        "\n",
        "    inception_5a_1_1 = conv_2d(pool4_3_3, 256, filter_size=1, activation='relu', name='inception_5a_1_1')\n",
        "    inception_5a_3_3_reduce = conv_2d(pool4_3_3, 160, filter_size=1, activation='relu', name='inception_5a_3_3_reduce')\n",
        "    inception_5a_3_3 = conv_2d(inception_5a_3_3_reduce, 320, filter_size=3, activation='relu', name='inception_5a_3_3')\n",
        "    inception_5a_5_5_reduce = conv_2d(pool4_3_3, 32, filter_size=1, activation='relu', name='inception_5a_5_5_reduce')\n",
        "    inception_5a_5_5 = conv_2d(inception_5a_5_5_reduce, 128, filter_size=5,  activation='relu', name='inception_5a_5_5')\n",
        "    inception_5a_pool = max_pool_2d(pool4_3_3, kernel_size=3, strides=1,  name='inception_5a_pool')\n",
        "    inception_5a_pool_1_1 = conv_2d(inception_5a_pool, 128, filter_size=1,activation='relu', name='inception_5a_pool_1_1')\n",
        "\n",
        "    inception_5a_output = merge([inception_5a_1_1, inception_5a_3_3, inception_5a_5_5, inception_5a_pool_1_1], axis=3,mode='concat')\n",
        "\n",
        "\n",
        "    inception_5b_1_1 = conv_2d(inception_5a_output, 384, filter_size=1,activation='relu', name='inception_5b_1_1')\n",
        "    inception_5b_3_3_reduce = conv_2d(inception_5a_output, 192, filter_size=1, activation='relu', name='inception_5b_3_3_reduce')\n",
        "    inception_5b_3_3 = conv_2d(inception_5b_3_3_reduce, 384,  filter_size=3,activation='relu', name='inception_5b_3_3')\n",
        "    inception_5b_5_5_reduce = conv_2d(inception_5a_output, 48, filter_size=1, activation='relu', name='inception_5b_5_5_reduce')\n",
        "    inception_5b_5_5 = conv_2d(inception_5b_5_5_reduce,128, filter_size=5,  activation='relu', name='inception_5b_5_5' )\n",
        "    inception_5b_pool = max_pool_2d(inception_5a_output, kernel_size=3, strides=1,  name='inception_5b_pool')\n",
        "    inception_5b_pool_1_1 = conv_2d(inception_5b_pool, 128, filter_size=1, activation='relu', name='inception_5b_pool_1_1')\n",
        "    inception_5b_output = merge([inception_5b_1_1, inception_5b_3_3, inception_5b_5_5, inception_5b_pool_1_1], axis=3, mode='concat')\n",
        "\n",
        "    pool5_7_7 = avg_pool_2d(inception_5b_output, kernel_size=7, strides=1)\n",
        "    pool5_7_7 = dropout(pool5_7_7, 0.4)\n",
        "\n",
        "    \n",
        "    loss = fully_connected(pool5_7_7, output,activation='softmax')\n",
        "\n",
        "\n",
        "    \n",
        "    network = regression(loss, optimizer='momentum',\n",
        "                         loss='categorical_crossentropy',\n",
        "                         learning_rate=lr, name='targets')\n",
        "    \n",
        "    model = tflearn.DNN(network, \n",
        "                        max_checkpoints=0, tensorboard_verbose=0,tensorboard_dir='log')\n",
        "\n",
        "\n",
        "    return model\n"
      ],
      "execution_count": 0,
      "outputs": []
    },
    {
      "metadata": {
        "id": "mhIUILAM5cKU",
        "colab_type": "code",
        "colab": {}
      },
      "cell_type": "code",
      "source": [
        "\n",
        "def alexnet(width, height, frame_count, lr, output=9, model_name = 'alexnet'):\n",
        "    network = input_data(shape=[None, width, height, 3], name='input')\n",
        "    network = conv_2d(network, 96, 11, strides=4, activation='relu')\n",
        "    network = max_pool_2d(network, 3, strides=2)\n",
        "    network = local_response_normalization(network)\n",
        "    network = conv_2d(network, 256, 5, activation='relu')\n",
        "    network = max_pool_2d(network, 3, strides=2)\n",
        "    network = local_response_normalization(network)\n",
        "    network = conv_2d(network, 384, 3, activation='relu')\n",
        "    network = conv_2d(network, 384, 3, activation='relu')\n",
        "    network = conv_2d(network, 256, 3, activation='relu')\n",
        "    network = max_pool_2d(network, 3, strides=2)\n",
        "    network = conv_2d(network, 256, 5, activation='relu')\n",
        "    network = max_pool_2d(network, 3, strides=2)\n",
        "    network = local_response_normalization(network)\n",
        "    network = conv_2d(network, 384, 3, activation='relu')\n",
        "    network = conv_2d(network, 384, 3, activation='relu')\n",
        "    network = conv_2d(network, 256, 3, activation='relu')\n",
        "    network = max_pool_2d(network, 3, strides=2)\n",
        "    network = local_response_normalization(network)\n",
        "    network = fully_connected(network, 4096, activation='tanh')\n",
        "    network = dropout(network, 0.5)\n",
        "    network = fully_connected(network, 4096, activation='tanh')\n",
        "    network = dropout(network, 0.5)\n",
        "    network = fully_connected(network, 4096, activation='tanh')\n",
        "    network = dropout(network, 0.5)\n",
        "    network = fully_connected(network, 4096, activation='tanh')\n",
        "    network = dropout(network, 0.5)\n",
        "    network = fully_connected(network, output, activation='softmax')\n",
        "    network = regression(network, optimizer='momentum',\n",
        "                         loss='categorical_crossentropy',\n",
        "                         learning_rate=lr, name='targets')\n",
        "\n",
        "    model = tflearn.DNN(network,\n",
        "                        max_checkpoints=0, tensorboard_verbose=0, tensorboard_dir='log')\n",
        "\n",
        "    return model"
      ],
      "execution_count": 0,
      "outputs": []
    },
    {
      "metadata": {
        "id": "VRyU8kWgLMPg",
        "colab_type": "code",
        "colab": {}
      },
      "cell_type": "code",
      "source": [
        "\n",
        "def alexnetNoPool(width, height, frame_count, lr, output=9, model_name = 'sentnet_color.model'):\n",
        "    network = input_data(shape=[None, width, height, 3], name='input')\n",
        "    network = conv_2d(network, 96, 11, strides=4, activation='relu')\n",
        "    #network = max_pool_2d(network, 3, strides=2)\n",
        "    network = local_response_normalization(network)\n",
        "    network = conv_2d(network, 256, 5, activation='relu')\n",
        "    #network = max_pool_2d(network, 3, strides=2)\n",
        "    network = local_response_normalization(network)\n",
        "    network = conv_2d(network, 384, 3, activation='relu')\n",
        "    network = conv_2d(network, 384, 3, activation='relu')\n",
        "    network = conv_2d(network, 256, 3, activation='relu')\n",
        "    #network = max_pool_2d(network, 3, strides=2)\n",
        "    network = conv_2d(network, 256, 5, activation='relu')\n",
        "    #network = max_pool_2d(network, 3, strides=2)\n",
        "    network = local_response_normalization(network)\n",
        "    network = conv_2d(network, 384, 3, activation='relu')\n",
        "    network = conv_2d(network, 384, 3, activation='relu')\n",
        "    network = conv_2d(network, 256, 3, activation='relu')\n",
        "    #network = max_pool_2d(network, 3, strides=2)\n",
        "    network = local_response_normalization(network)\n",
        "    network = fully_connected(network, 4096, activation='tanh')\n",
        "    network = dropout(network, 0.5)\n",
        "    network = fully_connected(network, 4096, activation='tanh')\n",
        "    network = dropout(network, 0.5)\n",
        "    network = fully_connected(network, 4096, activation='tanh')\n",
        "    network = dropout(network, 0.5)\n",
        "    network = fully_connected(network, 4096, activation='tanh')\n",
        "    network = dropout(network, 0.5)\n",
        "    network = fully_connected(network, output, activation='softmax')\n",
        "    network = regression(network, optimizer='momentum',\n",
        "                         loss='categorical_crossentropy',\n",
        "                         learning_rate=lr, name='targets')\n",
        "\n",
        "    model = tflearn.DNN(network,\n",
        "                        max_checkpoints=0, tensorboard_verbose=0, tensorboard_dir='log')\n",
        "\n",
        "    return model"
      ],
      "execution_count": 0,
      "outputs": []
    },
    {
      "metadata": {
        "id": "Znylw-U861jK",
        "colab_type": "text"
      },
      "cell_type": "markdown",
      "source": [
        "# Instantiate model"
      ]
    },
    {
      "metadata": {
        "id": "AHL7gTi54jIj",
        "colab_type": "text"
      },
      "cell_type": "markdown",
      "source": [
        "Specify hyperparameters of training session"
      ]
    },
    {
      "metadata": {
        "id": "uXeXRrq6MUYR",
        "colab_type": "code",
        "colab": {}
      },
      "cell_type": "code",
      "source": [
        "\n",
        "FILE_I_END = 10\n",
        "\n",
        "WIDTH = 160\n",
        "HEIGHT = 120\n",
        "LR = 1e-3\n",
        "EPOCHS = 30\n",
        "\n",
        "MODEL_NAME = 'cidV0.26'\n",
        "#1.11 incpetionv3 balanced 30 epochs'\n",
        "#1.1 inception v3 balanced \n",
        "#1.21 alexnet balanced\n",
        "#1.22 alexnet no pooling balanced\n",
        "#PREV_MODEL = 'CID-hw-v1.1'\n",
        "\n",
        "#LOAD_MODEL = True\n",
        "\n",
        "\n"
      ],
      "execution_count": 0,
      "outputs": []
    },
    {
      "metadata": {
        "id": "79dWfL-x4mXG",
        "colab_type": "text"
      },
      "cell_type": "markdown",
      "source": [
        "Instantiate all models"
      ]
    },
    {
      "metadata": {
        "id": "sOBJKtmoNN0B",
        "colab_type": "code",
        "outputId": "8255e7be-ffd1-4f66-e1a0-d0118f18f4ea",
        "colab": {
          "base_uri": "https://localhost:8080/",
          "height": 144
        }
      },
      "cell_type": "code",
      "source": [
        "model =modified_alexnet(160, 120, 1e-3, output=5)"
      ],
      "execution_count": 0,
      "outputs": [
        {
          "output_type": "stream",
          "text": [
            "WARNING:tensorflow:From /usr/local/lib/python3.6/dist-packages/tflearn/initializations.py:119: UniformUnitScaling.__init__ (from tensorflow.python.ops.init_ops) is deprecated and will be removed in a future version.\n",
            "Instructions for updating:\n",
            "Use tf.initializers.variance_scaling instead with distribution=uniform to get equivalent behavior.\n",
            "WARNING:tensorflow:From /usr/local/lib/python3.6/dist-packages/tflearn/objectives.py:66: calling reduce_sum (from tensorflow.python.ops.math_ops) with keep_dims is deprecated and will be removed in a future version.\n",
            "Instructions for updating:\n",
            "keep_dims is deprecated, use keepdims instead\n"
          ],
          "name": "stdout"
        }
      ]
    },
    {
      "metadata": {
        "id": "MAbwrFj0Ff-D",
        "colab_type": "code",
        "outputId": "3a7a0041-3d06-4ea0-8272-384621ee4058",
        "colab": {
          "base_uri": "https://localhost:8080/",
          "height": 144
        }
      },
      "cell_type": "code",
      "source": [
        "model2 = alexnet(WIDTH, HEIGHT, 3, LR, output=9, model_name=MODEL_NAME)"
      ],
      "execution_count": 0,
      "outputs": [
        {
          "output_type": "stream",
          "text": [
            "WARNING:tensorflow:From /usr/local/lib/python3.6/dist-packages/tflearn/initializations.py:119: UniformUnitScaling.__init__ (from tensorflow.python.ops.init_ops) is deprecated and will be removed in a future version.\n",
            "Instructions for updating:\n",
            "Use tf.initializers.variance_scaling instead with distribution=uniform to get equivalent behavior.\n",
            "WARNING:tensorflow:From /usr/local/lib/python3.6/dist-packages/tflearn/objectives.py:66: calling reduce_sum (from tensorflow.python.ops.math_ops) with keep_dims is deprecated and will be removed in a future version.\n",
            "Instructions for updating:\n",
            "keep_dims is deprecated, use keepdims instead\n"
          ],
          "name": "stdout"
        }
      ]
    },
    {
      "metadata": {
        "id": "g4ohD3lCFgSz",
        "colab_type": "code",
        "colab": {}
      },
      "cell_type": "code",
      "source": [
        "model3 = alexnetNoPool(WIDTH, HEIGHT, 3, LR, output=9, model_name=MODEL_NAME)"
      ],
      "execution_count": 0,
      "outputs": []
    },
    {
      "metadata": {
        "id": "D7bCkE9Y4puy",
        "colab_type": "text"
      },
      "cell_type": "markdown",
      "source": [
        "If retarining a previously trained model, load model into memory"
      ]
    },
    {
      "metadata": {
        "id": "Y9TwVvguBq4Z",
        "colab_type": "code",
        "outputId": "f1b4f7c0-1096-4ae9-9acb-04061874f1ae",
        "colab": {
          "base_uri": "https://localhost:8080/",
          "height": 52
        }
      },
      "cell_type": "code",
      "source": [
        "#IF load_model == true load a previoes model\n",
        "if LOAD_MODEL:\n",
        "  model1.load(PREV_MODEL)\n",
        "  print(\"Model loaded\")"
      ],
      "execution_count": 0,
      "outputs": [
        {
          "output_type": "stream",
          "text": [
            "INFO:tensorflow:Restoring parameters from /content/CID-hw-v1.1\n",
            "Model loaded\n"
          ],
          "name": "stdout"
        }
      ]
    },
    {
      "metadata": {
        "id": "9ZkJe_cg64dU",
        "colab_type": "text"
      },
      "cell_type": "markdown",
      "source": [
        "# Start training"
      ]
    },
    {
      "metadata": {
        "id": "Pn6s6W9T4QIe",
        "colab_type": "text"
      },
      "cell_type": "markdown",
      "source": [
        "Take all files in dataset, divide each file into batches\n",
        "The data is also parsed so that the model can be validated against unique data that the model has not ever seen\n",
        "The model is saved everytime a milestone is reached"
      ]
    },
    {
      "metadata": {
        "id": "bWLJKelRNU4I",
        "colab_type": "code",
        "outputId": "d111ce4f-6bf1-45b4-d447-ca2a4efec632",
        "colab": {
          "base_uri": "https://localhost:8080/",
          "height": 51
        }
      },
      "cell_type": "code",
      "source": [
        "for e in range(EPOCHS):\n",
        "    now = time.time()\n",
        "    #data_order = [i for i in range(1,FILE_I_END+1)]\n",
        "    data_order = [i for i in range(1,FILE_I_END+1)]\n",
        "    shuffle(data_order)\n",
        "    for count,i in enumerate(data_order):\n",
        "        \n",
        "        try:\n",
        "            file_name = 'training_data-{}.npy'.format(i)\n",
        "            # full file info\n",
        "            train_data = np.load(file_name)\n",
        "            print(file_name,len(train_data))\n",
        "\n",
        "            # always validating unique data: \n",
        "            #shuffle(train_data)\n",
        "            train = train_data[:-940]\n",
        "            test = train_data[-940:]\n",
        "            X= []\n",
        "            Y=[]\n",
        "            for i in train:\n",
        "              X.append(i[0])\n",
        "              Y.append(i[1])\n",
        "            \n",
        "            X=np.array(X)\n",
        "            Y=np.array(Y)\n",
        "            X = X.reshape([-1,WIDTH,HEIGHT,1])\n",
        "            \n",
        "            test_x =[]\n",
        "            test_y=[]\n",
        "\n",
        "            for i in test:\n",
        "              test_x.append(i[0])\n",
        "              test_y.append(i[1])\n",
        "            \n",
        "            test_x=np.array(test_x)\n",
        "            test_y=np.array(test_y)\n",
        "            test_x = test_x.reshape([-1,WIDTH,HEIGHT,1])\n",
        "           \n",
        "             #check model\n",
        "            model.fit({'input': X}, {'targets': Y}, n_epoch = 1, validation_set = ({'input': test_x}, {'targets': test_y}),\n",
        "                snapshot_step = 500, show_metric = True, run_id = MODEL_NAME)\n",
        "            print(e)\n",
        "\n",
        "            if count%10 == 0:\n",
        "                print('SAVING MODEL!', e)\n",
        "                model.save(MODEL_NAME)\n",
        "                    \n",
        "        except Exception as e:\n",
        "          print(str(e))\n",
        "          \n",
        "    print(\"TIME for Epoch\", time.time()-now, e)\n",
        "\n",
        "\n",
        "\n"
      ],
      "execution_count": 0,
      "outputs": [
        {
          "output_type": "stream",
          "text": [
            "Training Step: 33941  | total loss: \u001b[1m\u001b[32m0.15134\u001b[0m\u001b[0m | time: 21.869s\n",
            "\u001b[2K\r| Momentum | epoch: 256 | loss: 0.15134 - acc: 0.9485 -- iter: 1664/8497\n"
          ],
          "name": "stdout"
        }
      ]
    },
    {
      "metadata": {
        "id": "Udpl_u9G8gLw",
        "colab_type": "text"
      },
      "cell_type": "markdown",
      "source": [
        "# Get log files\n"
      ]
    },
    {
      "metadata": {
        "id": "kDUoF4w13_as",
        "colab_type": "text"
      },
      "cell_type": "markdown",
      "source": [
        "This code block allows the notebook to stay active even after training is finished, if the notebook remains idle for greater than 90 minutes, it is reset and shutown and all data is lost"
      ]
    },
    {
      "metadata": {
        "id": "K3BGtKxljzYM",
        "colab_type": "code",
        "outputId": "bd9fcad9-7d1f-4b08-c37f-aedd6ba07146",
        "colab": {
          "base_uri": "https://localhost:8080/",
          "height": 180
        }
      },
      "cell_type": "code",
      "source": [
        "while True:\n",
        "  a=2+2"
      ],
      "execution_count": 0,
      "outputs": [
        {
          "output_type": "error",
          "ename": "KeyboardInterrupt",
          "evalue": "ignored",
          "traceback": [
            "\u001b[0;31m---------------------------------------------------------------------------\u001b[0m",
            "\u001b[0;31mKeyboardInterrupt\u001b[0m                         Traceback (most recent call last)",
            "\u001b[0;32m<ipython-input-15-66cf3dbdb969>\u001b[0m in \u001b[0;36m<module>\u001b[0;34m()\u001b[0m\n\u001b[1;32m      1\u001b[0m \u001b[0;32mwhile\u001b[0m \u001b[0;32mTrue\u001b[0m\u001b[0;34m:\u001b[0m\u001b[0;34m\u001b[0m\u001b[0;34m\u001b[0m\u001b[0m\n\u001b[0;32m----> 2\u001b[0;31m   \u001b[0ma\u001b[0m\u001b[0;34m=\u001b[0m\u001b[0;36m2\u001b[0m\u001b[0;34m+\u001b[0m\u001b[0;36m2\u001b[0m\u001b[0;34m\u001b[0m\u001b[0;34m\u001b[0m\u001b[0m\n\u001b[0m",
            "\u001b[0;31mKeyboardInterrupt\u001b[0m: "
          ]
        }
      ]
    },
    {
      "metadata": {
        "id": "pvu1c_2c4JbD",
        "colab_type": "text"
      },
      "cell_type": "markdown",
      "source": [
        "Need to download all log files from training session to see the progress of training"
      ]
    },
    {
      "metadata": {
        "id": "qWHsTO2AbpnE",
        "colab_type": "code",
        "colab": {}
      },
      "cell_type": "code",
      "source": [
        "from google.colab import files\n",
        "\n",
        "for i in range(1544573666, 1544581972):\n",
        "  try:\n",
        "    path = 'log/CID-hw-v1.21/events.out.tfevents.{}.5ba575443244'.format(i)\n",
        "\n",
        "    files.download(path)\n",
        "  except Exception as e:\n",
        "    pass\n",
        "   # print(str(e))\n",
        "#!gsutil cp  gs://{bucket_name}/Log/"
      ],
      "execution_count": 0,
      "outputs": []
    }
  ]
}