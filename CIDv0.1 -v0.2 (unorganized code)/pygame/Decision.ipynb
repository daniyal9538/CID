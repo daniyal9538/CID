{
 "cells": [
  {
   "cell_type": "code",
   "execution_count": 10,
   "metadata": {},
   "outputs": [],
   "source": [
    "import json\n",
    "filename = 'city_data.json'\n",
    "\n",
    "with open(filename, 'r') as f:\n",
    "        data = json.load(f)"
   ]
  },
  {
   "cell_type": "code",
   "execution_count": 8,
   "metadata": {},
   "outputs": [
    {
     "data": {
      "text/plain": [
       "dict_keys(['objects', 'num_of_objects', 'lanePolygon', 'lp_arrayShape', 'lanePolygon_area'])"
      ]
     },
     "execution_count": 8,
     "metadata": {},
     "output_type": "execute_result"
    }
   ],
   "source": [
    "data[0].keys()"
   ]
  },
  {
   "cell_type": "code",
   "execution_count": 11,
   "metadata": {},
   "outputs": [],
   "source": [
    "for i in data:\n",
    "    del(i['lanePolygon'])"
   ]
  },
  {
   "cell_type": "code",
   "execution_count": 13,
   "metadata": {},
   "outputs": [
    {
     "data": {
      "text/plain": [
       "dict_keys(['name', 'percentage_probability', 'box_points', 'inLane', 'midX', 'midY', 'box_area'])"
      ]
     },
     "execution_count": 13,
     "metadata": {},
     "output_type": "execute_result"
    }
   ],
   "source": [
    "data[0]['objects'][0].keys()"
   ]
  },
  {
   "cell_type": "code",
   "execution_count": 17,
   "metadata": {},
   "outputs": [],
   "source": [
    "x1 = 160\n",
    "x2 = 160+160\n",
    "x3= 160 + 160 +160\n",
    "for i in data:\n",
    "    for det in i['objects']:\n",
    "        if det['midX'] < x1:\n",
    "            det['x_loc'] = 0\n",
    "        elif (det['midX']<x2  and det['midX']>=x1):\n",
    "            det['x_loc'] = 1\n",
    "        elif (det['midX']<x3  and det['midX']>=x2):\n",
    "            det['x_loc'] =2"
   ]
  },
  {
   "cell_type": "code",
   "execution_count": 19,
   "metadata": {},
   "outputs": [
    {
     "data": {
      "text/plain": [
       "{'name': 'traffic light',\n",
       " 'percentage_probability': 38.74281048774719,\n",
       " 'box_points': [441, 3, 449, 22],\n",
       " 'inLane': False,\n",
       " 'midX': 445,\n",
       " 'midY': 14,\n",
       " 'box_area': 152.0,\n",
       " 'x_loc': 2}"
      ]
     },
     "execution_count": 19,
     "metadata": {},
     "output_type": "execute_result"
    }
   ],
   "source": [
    "data[0]['objects'][0]"
   ]
  },
  {
   "cell_type": "code",
   "execution_count": 8,
   "metadata": {},
   "outputs": [
    {
     "name": "stdout",
     "output_type": "stream",
     "text": [
      "done\n"
     ]
    }
   ],
   "source": [
    "import pygame \n",
    "\n",
    "main()"
   ]
  },
  {
   "cell_type": "code",
   "execution_count": 7,
   "metadata": {},
   "outputs": [],
   "source": [
    "def main():\n",
    "    pygame.init()\n",
    "    screen = pygame.display.set_mode((1280, 720))\n",
    "    done = False\n",
    "\n",
    "    while not done:\n",
    "            color = (255, 100, 0)\n",
    "            pygame.draw.rect(screen, color, pygame.Rect(40, 40, 70, 70))\n",
    "            \n",
    "            for event in pygame.event.get():\n",
    "                    if event.type == pygame.QUIT:\n",
    "\n",
    "                        done = True\n",
    "                    if event.type == pygame.KEYDOWN and event.key == pygame.K_SPACE:\n",
    "                        pygame.draw.rect(screen, (255, 100, 100), pygame.Rect(30, 30, 60, 60))\n",
    "                        #done = True\n",
    "            pygame.display.update()\n",
    "    print('done')\n",
    "    "
   ]
  },
  {
   "cell_type": "code",
   "execution_count": 14,
   "metadata": {},
   "outputs": [],
   "source": [
    "import json\n",
    "import time\n"
   ]
  },
  {
   "cell_type": "code",
   "execution_count": null,
   "metadata": {},
   "outputs": [],
   "source": [
    "pygame.init()\n",
    "screen = pygame.display.set_mode((1280, 720))\n",
    "x = 2\n",
    "y = 4\n",
    "for i in data:\n",
    "    x=x+x\n",
    "    y=y+y\n",
    "    color = (255, 100, 0)\n",
    "    pygame.draw.rect(screen, color, pygame.Rect(x, x, y, y))\n",
    "    pygame.display.update()\n",
    "    time.sleep(1000)"
   ]
  },
  {
   "cell_type": "code",
   "execution_count": null,
   "metadata": {},
   "outputs": [],
   "source": []
  }
 ],
 "metadata": {
  "kernelspec": {
   "display_name": "Python 3",
   "language": "python",
   "name": "python3"
  },
  "language_info": {
   "codemirror_mode": {
    "name": "ipython",
    "version": 3
   },
   "file_extension": ".py",
   "mimetype": "text/x-python",
   "name": "python",
   "nbconvert_exporter": "python",
   "pygments_lexer": "ipython3",
   "version": "3.6.7"
  }
 },
 "nbformat": 4,
 "nbformat_minor": 2
}
