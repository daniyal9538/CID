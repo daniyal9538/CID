{
  "nbformat": 4,
  "nbformat_minor": 0,
  "metadata": {
    "colab": {
      "name": "count_data.ipynb",
      "version": "0.3.2",
      "provenance": [],
      "collapsed_sections": [],
      "include_colab_link": true
    },
    "kernelspec": {
      "name": "python3",
      "display_name": "Python 3"
    },
    "accelerator": "GPU"
  },
  "cells": [
    {
      "cell_type": "markdown",
      "metadata": {
        "id": "view-in-github",
        "colab_type": "text"
      },
      "source": [
        "<a href=\"https://colab.research.google.com/github/daniyal9538/CID/blob/master/count_data.ipynb\" target=\"_parent\"><img src=\"https://colab.research.google.com/assets/colab-badge.svg\" alt=\"Open In Colab\"/></a>"
      ]
    },
    {
      "metadata": {
        "id": "5uC6Nh5FAL6v",
        "colab_type": "text"
      },
      "cell_type": "markdown",
      "source": [
        "Code iterates through a range of files, counts up data points in each file and outputs it into 2 csv files. The code downloads a file from storage bucket, iterates through it and counts it up, and then deletes that file.\n",
        "Once all the files are counted, the 2 csv files are downloaded to the local pc\n"
      ]
    },
    {
      "metadata": {
        "id": "FsUCUmcBb5_C",
        "colab_type": "code",
        "colab": {}
      },
      "cell_type": "code",
      "source": [
        "import numpy as np \n",
        "import csv"
      ],
      "execution_count": 0,
      "outputs": []
    },
    {
      "metadata": {
        "id": "HGx_AoexcZ_t",
        "colab_type": "code",
        "colab": {}
      },
      "cell_type": "code",
      "source": [
        "# Authenticate to GCS.\n",
        "from google.colab import auth\n",
        "auth.authenticate_user()\n",
        "\n",
        "# https://cloud.google.com/resource-manager/docs/creating-managing-projects\n",
        "project_id = 'test-demo-222423'\n",
        "bucket_name = 'cid_training_data'\n",
        "# Create the service client.\n",
        "from googleapiclient.discovery import build\n",
        "gcs_service = build('storage', 'v1')\n",
        "\n",
        "from apiclient.http import MediaIoBaseDownload\n",
        "count = [0]*9"
      ],
      "execution_count": 0,
      "outputs": []
    },
    {
      "metadata": {
        "id": "OzAmk0RadN_U",
        "colab_type": "code",
        "outputId": "f37db831-c519-42fa-cae0-931d50a191d7",
        "colab": {
          "base_uri": "https://localhost:8080/",
          "height": 481
        }
      },
      "cell_type": "code",
      "source": [
        "for i in range(1, 6):\n",
        "  tempCount = [0]*9\n",
        "  try: \n",
        "    download_name = \"training_data-{}.npy\".format(i)\n",
        "    path_name = \"balanced_data/balanced_data-{}.npy\".format(i)\n",
        "\n",
        "    with open(download_name, 'wb') as f:\n",
        "      # Download the file from a given Google Cloud Storage bucket.\n",
        "      request = gcs_service.objects().get_media(bucket=bucket_name,\n",
        "                                                object=path_name)\n",
        "      media = MediaIoBaseDownload(f, request)\n",
        "\n",
        "      done = False\n",
        "      while not done:\n",
        "        # _ is a placeholder for a progress object that we ignore.\n",
        "        # (Our file is small, so we skip reporting progress.)\n",
        "        _, done = media.next_chunk()        \n",
        "\n",
        "    print('Download complete ', i)\n",
        "    \n",
        "    try:\n",
        "      data = np.load(download_name)\n",
        "      for x in data:\n",
        "        t = np.argmax(x[1])\n",
        "        count[t]+=1\n",
        "        tempCount[t]+=1\n",
        "      \n",
        "      \n",
        "      print (tempCount)\n",
        "      sum =0\n",
        "      for d in tempCount:\n",
        "          sum+=d\n",
        "      \n",
        "      print(count)\n",
        "      s=[100*j/sum for j in tempCount]\n",
        "      print (s)\n",
        "      with open('dataD.csv', 'a') as fd:\n",
        "          writer = csv.writer(fd)\n",
        "          writer.writerow(s)\n",
        "      with open('dataC.csv', 'a') as fd:\n",
        "          writer = csv.writer(fd)\n",
        "          writer.writerow(tempCount)\n",
        "          \n",
        "          \n",
        "    except Exception as ex:\n",
        "        print(\"Could not count data {}\".format(i), ex)\n",
        "    print('Count complete', i)\n",
        "    \n",
        "    !rm -rf $download_name\n",
        "    \n",
        "  except Exception as e:\n",
        "    !rm -rf $download_name\n",
        "    print(\"Could not download download file {}\".format(i), e)\n",
        "    "
      ],
      "execution_count": 0,
      "outputs": [
        {
          "output_type": "stream",
          "text": [
            "Download complete  1\n",
            "[1111, 1111, 1111, 1111, 1111, 1111, 1046, 992, 1111]\n",
            "[1111, 1111, 1111, 1111, 1111, 1111, 1046, 992, 1111]\n",
            "[11.319409067753439, 11.319409067753439, 11.319409067753439, 11.319409067753439, 11.319409067753439, 11.319409067753439, 10.657157412124299, 10.10697911360163, 11.319409067753439]\n",
            "Count complete 1\n",
            "Download complete  2\n",
            "[1111, 1111, 1111, 1111, 1111, 1111, 1046, 992, 1111]\n",
            "[2222, 2222, 2222, 2222, 2222, 2222, 2092, 1984, 2222]\n",
            "[11.319409067753439, 11.319409067753439, 11.319409067753439, 11.319409067753439, 11.319409067753439, 11.319409067753439, 10.657157412124299, 10.10697911360163, 11.319409067753439]\n",
            "Count complete 2\n",
            "Download complete  3\n",
            "[1111, 1111, 1111, 1111, 1111, 1111, 1046, 992, 1111]\n",
            "[3333, 3333, 3333, 3333, 3333, 3333, 3138, 2976, 3333]\n",
            "[11.319409067753439, 11.319409067753439, 11.319409067753439, 11.319409067753439, 11.319409067753439, 11.319409067753439, 10.657157412124299, 10.10697911360163, 11.319409067753439]\n",
            "Count complete 3\n",
            "Download complete  4\n",
            "[1111, 1111, 1111, 1111, 1111, 1111, 1046, 992, 1111]\n",
            "[4444, 4444, 4444, 4444, 4444, 4444, 4184, 3968, 4444]\n",
            "[11.319409067753439, 11.319409067753439, 11.319409067753439, 11.319409067753439, 11.319409067753439, 11.319409067753439, 10.657157412124299, 10.10697911360163, 11.319409067753439]\n",
            "Count complete 4\n",
            "Download complete  5\n",
            "[1111, 1111, 1111, 1111, 1111, 1111, 1046, 992, 1111]\n",
            "[5555, 5555, 5555, 5555, 5555, 5555, 5230, 4960, 5555]\n",
            "[11.319409067753439, 11.319409067753439, 11.319409067753439, 11.319409067753439, 11.319409067753439, 11.319409067753439, 10.657157412124299, 10.10697911360163, 11.319409067753439]\n",
            "Count complete 5\n"
          ],
          "name": "stdout"
        }
      ]
    },
    {
      "metadata": {
        "id": "k8o5R1AUfh51",
        "colab_type": "code",
        "colab": {}
      },
      "cell_type": "code",
      "source": [
        "from google.colab import files\n",
        "#files.download('dataD.csv')\n",
        "files.download('dataC.csv')"
      ],
      "execution_count": 0,
      "outputs": []
    }
  ]
}