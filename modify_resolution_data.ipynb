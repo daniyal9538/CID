{
  "nbformat": 4,
  "nbformat_minor": 0,
  "metadata": {
    "colab": {
      "name": "modify_resolution_data.ipynb",
      "version": "0.3.2",
      "provenance": [],
      "include_colab_link": true
    },
    "kernelspec": {
      "name": "python3",
      "display_name": "Python 3"
    },
    "accelerator": "GPU"
  },
  "cells": [
    {
      "cell_type": "markdown",
      "metadata": {
        "id": "view-in-github",
        "colab_type": "text"
      },
      "source": [
        "<a href=\"https://colab.research.google.com/github/daniyal9538/CID/blob/master/modify_resolution_data.ipynb\" target=\"_parent\"><img src=\"https://colab.research.google.com/assets/colab-badge.svg\" alt=\"Open In Colab\"/></a>"
      ]
    },
    {
      "metadata": {
        "id": "CixnJE8nj1Gy",
        "colab_type": "code",
        "colab": {}
      },
      "cell_type": "code",
      "source": [
        "import numpy as np\n",
        "from google.colab import files\n",
        "import cv2\n",
        "from matplotlib import pyplot as plt"
      ],
      "execution_count": 0,
      "outputs": []
    },
    {
      "metadata": {
        "id": "u1hyaiU6lCz3",
        "colab_type": "code",
        "colab": {}
      },
      "cell_type": "code",
      "source": [
        "from google.colab import auth\n",
        "auth.authenticate_user()\n",
        "\n",
        "# https://cloud.google.com/resource-manager/docs/creating-managing-projects\n",
        "project_id = 'test-demo-222423'\n",
        "bucket_name = 'cid_training_data'\n",
        "# Create the service client.\n",
        "from googleapiclient.discovery import build\n",
        "gcs_service = build('storage', 'v1')\n",
        "\n",
        "from apiclient.http import MediaIoBaseDownload"
      ],
      "execution_count": 0,
      "outputs": []
    },
    {
      "metadata": {
        "id": "pzDPjg0pozdr",
        "colab_type": "code",
        "colab": {}
      },
      "cell_type": "code",
      "source": [
        "output_width=160\n",
        "output_height=120\n",
        "start_file = 39\n",
        "end_file = 41"
      ],
      "execution_count": 0,
      "outputs": []
    },
    {
      "metadata": {
        "id": "UQAv3pOnpkaQ",
        "colab_type": "code",
        "outputId": "c5b73ee6-f016-4536-b5c3-8c51824f4366",
        "colab": {
          "base_uri": "https://localhost:8080/",
          "height": 977
        }
      },
      "cell_type": "code",
      "source": [
        "for i in range(start_file, end_file+1):\n",
        "  try:\n",
        "    download_name = \"training_data-{}.npy\".format(i)\n",
        "    path_name = \"cid_data-p-t/training_data-12-p-t-{}.npy\".format(i)\n",
        "    new_name = \"mod_data-160-120-{}.npy\".format(i)\n",
        "    \n",
        "    with open(download_name, 'wb') as f:\n",
        "      # Download the file from a given Google Cloud Storage bucket.\n",
        "      request = gcs_service.objects().get_media(bucket=bucket_name,\n",
        "                                                    object=path_name)\n",
        "      media = MediaIoBaseDownload(f, request)\n",
        "\n",
        "      done = False\n",
        "      while not done:\n",
        "            # _ is a placeholder for a progress object that we ignore.\n",
        "            # (Our file is small, so we skip reporting progress.)\n",
        "        _, done = media.next_chunk()  \n",
        "      print(download_name, 'download complete')\n",
        "      \n",
        "  except Exception as ex:\n",
        "    print(\"Download failed file\", download_name, ex)\n",
        "  \n",
        "  try:\n",
        "    old_data = np.load(download_name)\n",
        "    new_data = []\n",
        "  \n",
        "    for d in old_data:\n",
        "      screen = d[0]\n",
        "      screen = cv2.resize(screen, (output_width,output_height))\n",
        "      # run a color convert:\n",
        "      screen = cv2.cvtColor(screen, cv2.COLOR_RGB2GRAY)\n",
        "      new_data.append([screen, d[1]])\n",
        "    np.save(new_name, new_data)\n",
        "    print(new_name, \"successfully populated\")\n",
        "    \n",
        "  except Exception as ex:\n",
        "    print(\"New failed file\", new_name, ex)\n",
        "  \n",
        "  \n",
        "  try:\n",
        "    !gsutil cp $new_name gs://{bucket_name}/mod_cid_data\n",
        "    print(new_name, \"successfully uploaded to bucket\")\n",
        "  \n",
        "  except Exception as ex:\n",
        "    print(\"Upload failed\", new_name, ex)\n",
        "    \n",
        "  try:\n",
        "    !rm -rf $download_name\n",
        "    !rm -rf $new_name\n",
        "    new_data.clear()\n",
        "    \n",
        "  except Exception as ex:\n",
        "    print(\"deletion failed\", ex)\n",
        "     "
      ],
      "execution_count": 0,
      "outputs": [
        {
          "output_type": "stream",
          "text": [
            "training_data-39.npy download complete\n",
            "mod_data-160-120-39.npy successfully populated\n",
            "Copying file://mod_data-160-120-39.npy [Content-Type=application/octet-stream]...\n",
            "==> NOTE: You are uploading one or more large file(s), which would run\n",
            "significantly faster if you enable parallel composite uploads. This\n",
            "feature can be enabled by editing the\n",
            "\"parallel_composite_upload_threshold\" value in your .boto\n",
            "configuration file. However, note that if you do this large files will\n",
            "be uploaded as `composite objects\n",
            "<https://cloud.google.com/storage/docs/composite-objects>`_,which\n",
            "means that any user who downloads such objects will need to have a\n",
            "compiled crcmod installed (see \"gsutil help crcmod\"). This is because\n",
            "without a compiled crcmod, computing checksums on composite objects is\n",
            "so slow that gsutil disables downloads of composite objects.\n",
            "\n",
            "-\n",
            "Operation completed over 1 objects/278.1 MiB.                                    \n",
            "mod_data-160-120-39.npy successfully uploaded to bucket\n",
            "training_data-40.npy download complete\n",
            "mod_data-160-120-40.npy successfully populated\n",
            "Copying file://mod_data-160-120-40.npy [Content-Type=application/octet-stream]...\n",
            "==> NOTE: You are uploading one or more large file(s), which would run\n",
            "significantly faster if you enable parallel composite uploads. This\n",
            "feature can be enabled by editing the\n",
            "\"parallel_composite_upload_threshold\" value in your .boto\n",
            "configuration file. However, note that if you do this large files will\n",
            "be uploaded as `composite objects\n",
            "<https://cloud.google.com/storage/docs/composite-objects>`_,which\n",
            "means that any user who downloads such objects will need to have a\n",
            "compiled crcmod installed (see \"gsutil help crcmod\"). This is because\n",
            "without a compiled crcmod, computing checksums on composite objects is\n",
            "so slow that gsutil disables downloads of composite objects.\n",
            "\n",
            "/\n",
            "Operation completed over 1 objects/267.3 MiB.                                    \n",
            "mod_data-160-120-40.npy successfully uploaded to bucket\n",
            "training_data-41.npy download complete\n",
            "mod_data-160-120-41.npy successfully populated\n",
            "Copying file://mod_data-160-120-41.npy [Content-Type=application/octet-stream]...\n",
            "==> NOTE: You are uploading one or more large file(s), which would run\n",
            "significantly faster if you enable parallel composite uploads. This\n",
            "feature can be enabled by editing the\n",
            "\"parallel_composite_upload_threshold\" value in your .boto\n",
            "configuration file. However, note that if you do this large files will\n",
            "be uploaded as `composite objects\n",
            "<https://cloud.google.com/storage/docs/composite-objects>`_,which\n",
            "means that any user who downloads such objects will need to have a\n",
            "compiled crcmod installed (see \"gsutil help crcmod\"). This is because\n",
            "without a compiled crcmod, computing checksums on composite objects is\n",
            "so slow that gsutil disables downloads of composite objects.\n",
            "\n",
            "-\n",
            "Operation completed over 1 objects/275.2 MiB.                                    \n",
            "mod_data-160-120-41.npy successfully uploaded to bucket\n"
          ],
          "name": "stdout"
        }
      ]
    }
  ]
}